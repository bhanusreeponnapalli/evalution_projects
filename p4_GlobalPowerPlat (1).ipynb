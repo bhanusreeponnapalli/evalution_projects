{
 "cells": [
  {
   "cell_type": "code",
   "execution_count": 1,
   "id": "be5722ed",
   "metadata": {},
   "outputs": [],
   "source": [
    "#import the neccesary files\n",
    "import pandas as pd\n",
    "import numpy as np\n",
    "import seaborn as sns\n",
    "import matplotlib.pyplot as plt\n",
    "\n",
    "from sklearn.ensemble import  RandomForestRegressor\n",
    "from sklearn.linear_model import LinearRegression,Ridge,Lasso,RidgeCV,LassoCV\n",
    "from sklearn.ensemble import  GradientBoostingRegressor\n",
    "from sklearn.tree import DecisionTreeRegressor\n",
    "\n",
    "import warnings\n",
    "warnings.filterwarnings('ignore')"
   ]
  },
  {
   "cell_type": "code",
   "execution_count": 2,
   "id": "e6c809dc",
   "metadata": {},
   "outputs": [
    {
     "data": {
      "text/html": [
       "<div>\n",
       "<style scoped>\n",
       "    .dataframe tbody tr th:only-of-type {\n",
       "        vertical-align: middle;\n",
       "    }\n",
       "\n",
       "    .dataframe tbody tr th {\n",
       "        vertical-align: top;\n",
       "    }\n",
       "\n",
       "    .dataframe thead th {\n",
       "        text-align: right;\n",
       "    }\n",
       "</style>\n",
       "<table border=\"1\" class=\"dataframe\">\n",
       "  <thead>\n",
       "    <tr style=\"text-align: right;\">\n",
       "      <th></th>\n",
       "      <th>country</th>\n",
       "      <th>country_long</th>\n",
       "      <th>name</th>\n",
       "      <th>gppd_idnr</th>\n",
       "      <th>capacity_mw</th>\n",
       "      <th>latitude</th>\n",
       "      <th>longitude</th>\n",
       "      <th>primary_fuel</th>\n",
       "      <th>other_fuel1</th>\n",
       "      <th>other_fuel2</th>\n",
       "      <th>...</th>\n",
       "      <th>year_of_capacity_data</th>\n",
       "      <th>generation_gwh_2013</th>\n",
       "      <th>generation_gwh_2014</th>\n",
       "      <th>generation_gwh_2015</th>\n",
       "      <th>generation_gwh_2016</th>\n",
       "      <th>generation_gwh_2017</th>\n",
       "      <th>generation_gwh_2018</th>\n",
       "      <th>generation_gwh_2019</th>\n",
       "      <th>generation_data_source</th>\n",
       "      <th>estimated_generation_gwh</th>\n",
       "    </tr>\n",
       "  </thead>\n",
       "  <tbody>\n",
       "    <tr>\n",
       "      <th>0</th>\n",
       "      <td>IND</td>\n",
       "      <td>India</td>\n",
       "      <td>ACME Solar Tower</td>\n",
       "      <td>WRI1020239</td>\n",
       "      <td>2.5</td>\n",
       "      <td>28.1839</td>\n",
       "      <td>73.2407</td>\n",
       "      <td>Solar</td>\n",
       "      <td>NaN</td>\n",
       "      <td>NaN</td>\n",
       "      <td>...</td>\n",
       "      <td>NaN</td>\n",
       "      <td>NaN</td>\n",
       "      <td>NaN</td>\n",
       "      <td>NaN</td>\n",
       "      <td>NaN</td>\n",
       "      <td>NaN</td>\n",
       "      <td>NaN</td>\n",
       "      <td>NaN</td>\n",
       "      <td>NaN</td>\n",
       "      <td>NaN</td>\n",
       "    </tr>\n",
       "    <tr>\n",
       "      <th>1</th>\n",
       "      <td>IND</td>\n",
       "      <td>India</td>\n",
       "      <td>ADITYA CEMENT WORKS</td>\n",
       "      <td>WRI1019881</td>\n",
       "      <td>98.0</td>\n",
       "      <td>24.7663</td>\n",
       "      <td>74.6090</td>\n",
       "      <td>Coal</td>\n",
       "      <td>NaN</td>\n",
       "      <td>NaN</td>\n",
       "      <td>...</td>\n",
       "      <td>NaN</td>\n",
       "      <td>NaN</td>\n",
       "      <td>NaN</td>\n",
       "      <td>NaN</td>\n",
       "      <td>NaN</td>\n",
       "      <td>NaN</td>\n",
       "      <td>NaN</td>\n",
       "      <td>NaN</td>\n",
       "      <td>NaN</td>\n",
       "      <td>NaN</td>\n",
       "    </tr>\n",
       "    <tr>\n",
       "      <th>2</th>\n",
       "      <td>IND</td>\n",
       "      <td>India</td>\n",
       "      <td>AES Saurashtra Windfarms</td>\n",
       "      <td>WRI1026669</td>\n",
       "      <td>39.2</td>\n",
       "      <td>21.9038</td>\n",
       "      <td>69.3732</td>\n",
       "      <td>Wind</td>\n",
       "      <td>NaN</td>\n",
       "      <td>NaN</td>\n",
       "      <td>...</td>\n",
       "      <td>NaN</td>\n",
       "      <td>NaN</td>\n",
       "      <td>NaN</td>\n",
       "      <td>NaN</td>\n",
       "      <td>NaN</td>\n",
       "      <td>NaN</td>\n",
       "      <td>NaN</td>\n",
       "      <td>NaN</td>\n",
       "      <td>NaN</td>\n",
       "      <td>NaN</td>\n",
       "    </tr>\n",
       "    <tr>\n",
       "      <th>3</th>\n",
       "      <td>IND</td>\n",
       "      <td>India</td>\n",
       "      <td>AGARTALA GT</td>\n",
       "      <td>IND0000001</td>\n",
       "      <td>135.0</td>\n",
       "      <td>23.8712</td>\n",
       "      <td>91.3602</td>\n",
       "      <td>Gas</td>\n",
       "      <td>NaN</td>\n",
       "      <td>NaN</td>\n",
       "      <td>...</td>\n",
       "      <td>2019.0</td>\n",
       "      <td>NaN</td>\n",
       "      <td>617.789264</td>\n",
       "      <td>843.747</td>\n",
       "      <td>886.004428</td>\n",
       "      <td>663.774500</td>\n",
       "      <td>626.239128</td>\n",
       "      <td>NaN</td>\n",
       "      <td>Central Electricity Authority</td>\n",
       "      <td>NaN</td>\n",
       "    </tr>\n",
       "    <tr>\n",
       "      <th>4</th>\n",
       "      <td>IND</td>\n",
       "      <td>India</td>\n",
       "      <td>AKALTARA TPP</td>\n",
       "      <td>IND0000002</td>\n",
       "      <td>1800.0</td>\n",
       "      <td>21.9603</td>\n",
       "      <td>82.4091</td>\n",
       "      <td>Coal</td>\n",
       "      <td>Oil</td>\n",
       "      <td>NaN</td>\n",
       "      <td>...</td>\n",
       "      <td>2019.0</td>\n",
       "      <td>NaN</td>\n",
       "      <td>3035.550000</td>\n",
       "      <td>5916.370</td>\n",
       "      <td>6243.000000</td>\n",
       "      <td>5385.579736</td>\n",
       "      <td>7279.000000</td>\n",
       "      <td>NaN</td>\n",
       "      <td>Central Electricity Authority</td>\n",
       "      <td>NaN</td>\n",
       "    </tr>\n",
       "  </tbody>\n",
       "</table>\n",
       "<p>5 rows × 27 columns</p>\n",
       "</div>"
      ],
      "text/plain": [
       "  country country_long                      name   gppd_idnr  capacity_mw  \\\n",
       "0     IND        India          ACME Solar Tower  WRI1020239          2.5   \n",
       "1     IND        India       ADITYA CEMENT WORKS  WRI1019881         98.0   \n",
       "2     IND        India  AES Saurashtra Windfarms  WRI1026669         39.2   \n",
       "3     IND        India               AGARTALA GT  IND0000001        135.0   \n",
       "4     IND        India              AKALTARA TPP  IND0000002       1800.0   \n",
       "\n",
       "   latitude  longitude primary_fuel other_fuel1 other_fuel2  ...  \\\n",
       "0   28.1839    73.2407        Solar         NaN         NaN  ...   \n",
       "1   24.7663    74.6090         Coal         NaN         NaN  ...   \n",
       "2   21.9038    69.3732         Wind         NaN         NaN  ...   \n",
       "3   23.8712    91.3602          Gas         NaN         NaN  ...   \n",
       "4   21.9603    82.4091         Coal         Oil         NaN  ...   \n",
       "\n",
       "   year_of_capacity_data  generation_gwh_2013 generation_gwh_2014  \\\n",
       "0                    NaN                  NaN                 NaN   \n",
       "1                    NaN                  NaN                 NaN   \n",
       "2                    NaN                  NaN                 NaN   \n",
       "3                 2019.0                  NaN          617.789264   \n",
       "4                 2019.0                  NaN         3035.550000   \n",
       "\n",
       "  generation_gwh_2015 generation_gwh_2016 generation_gwh_2017  \\\n",
       "0                 NaN                 NaN                 NaN   \n",
       "1                 NaN                 NaN                 NaN   \n",
       "2                 NaN                 NaN                 NaN   \n",
       "3             843.747          886.004428          663.774500   \n",
       "4            5916.370         6243.000000         5385.579736   \n",
       "\n",
       "   generation_gwh_2018  generation_gwh_2019         generation_data_source  \\\n",
       "0                  NaN                  NaN                            NaN   \n",
       "1                  NaN                  NaN                            NaN   \n",
       "2                  NaN                  NaN                            NaN   \n",
       "3           626.239128                  NaN  Central Electricity Authority   \n",
       "4          7279.000000                  NaN  Central Electricity Authority   \n",
       "\n",
       "   estimated_generation_gwh  \n",
       "0                       NaN  \n",
       "1                       NaN  \n",
       "2                       NaN  \n",
       "3                       NaN  \n",
       "4                       NaN  \n",
       "\n",
       "[5 rows x 27 columns]"
      ]
     },
     "execution_count": 2,
     "metadata": {},
     "output_type": "execute_result"
    }
   ],
   "source": [
    "#Reading the dataset\n",
    "gpp =pd.read_csv('database_IND.csv')\n",
    "gpp.head()"
   ]
  },
  {
   "cell_type": "code",
   "execution_count": 3,
   "id": "d7cac5f7",
   "metadata": {},
   "outputs": [
    {
     "data": {
      "text/plain": [
       "(907, 27)"
      ]
     },
     "execution_count": 3,
     "metadata": {},
     "output_type": "execute_result"
    }
   ],
   "source": [
    "#shape of the dataset\n",
    "gpp.shape"
   ]
  },
  {
   "cell_type": "code",
   "execution_count": 4,
   "id": "303b1695",
   "metadata": {},
   "outputs": [
    {
     "name": "stdout",
     "output_type": "stream",
     "text": [
      "<class 'pandas.core.frame.DataFrame'>\n",
      "RangeIndex: 907 entries, 0 to 906\n",
      "Data columns (total 27 columns):\n",
      " #   Column                    Non-Null Count  Dtype  \n",
      "---  ------                    --------------  -----  \n",
      " 0   country                   907 non-null    object \n",
      " 1   country_long              907 non-null    object \n",
      " 2   name                      907 non-null    object \n",
      " 3   gppd_idnr                 907 non-null    object \n",
      " 4   capacity_mw               907 non-null    float64\n",
      " 5   latitude                  861 non-null    float64\n",
      " 6   longitude                 861 non-null    float64\n",
      " 7   primary_fuel              907 non-null    object \n",
      " 8   other_fuel1               198 non-null    object \n",
      " 9   other_fuel2               1 non-null      object \n",
      " 10  other_fuel3               0 non-null      float64\n",
      " 11  commissioning_year        527 non-null    float64\n",
      " 12  owner                     342 non-null    object \n",
      " 13  source                    907 non-null    object \n",
      " 14  url                       907 non-null    object \n",
      " 15  geolocation_source        888 non-null    object \n",
      " 16  wepp_id                   0 non-null      float64\n",
      " 17  year_of_capacity_data     519 non-null    float64\n",
      " 18  generation_gwh_2013       0 non-null      float64\n",
      " 19  generation_gwh_2014       398 non-null    float64\n",
      " 20  generation_gwh_2015       422 non-null    float64\n",
      " 21  generation_gwh_2016       434 non-null    float64\n",
      " 22  generation_gwh_2017       440 non-null    float64\n",
      " 23  generation_gwh_2018       448 non-null    float64\n",
      " 24  generation_gwh_2019       0 non-null      float64\n",
      " 25  generation_data_source    449 non-null    object \n",
      " 26  estimated_generation_gwh  0 non-null      float64\n",
      "dtypes: float64(15), object(12)\n",
      "memory usage: 191.4+ KB\n"
     ]
    }
   ],
   "source": [
    "gpp.info()"
   ]
  },
  {
   "cell_type": "code",
   "execution_count": 5,
   "id": "5243d343",
   "metadata": {},
   "outputs": [
    {
     "data": {
      "text/plain": [
       "Index(['country', 'country_long', 'name', 'gppd_idnr', 'capacity_mw',\n",
       "       'latitude', 'longitude', 'primary_fuel', 'other_fuel1', 'other_fuel2',\n",
       "       'other_fuel3', 'commissioning_year', 'owner', 'source', 'url',\n",
       "       'geolocation_source', 'wepp_id', 'year_of_capacity_data',\n",
       "       'generation_gwh_2013', 'generation_gwh_2014', 'generation_gwh_2015',\n",
       "       'generation_gwh_2016', 'generation_gwh_2017', 'generation_gwh_2018',\n",
       "       'generation_gwh_2019', 'generation_data_source',\n",
       "       'estimated_generation_gwh'],\n",
       "      dtype='object')"
      ]
     },
     "execution_count": 5,
     "metadata": {},
     "output_type": "execute_result"
    }
   ],
   "source": [
    "#name of the columns in dataset\n",
    "gpp.columns"
   ]
  },
  {
   "cell_type": "code",
   "execution_count": 6,
   "id": "ada17456",
   "metadata": {},
   "outputs": [
    {
     "data": {
      "text/plain": [
       "country                       0\n",
       "country_long                  0\n",
       "name                          0\n",
       "gppd_idnr                     0\n",
       "capacity_mw                   0\n",
       "latitude                     46\n",
       "longitude                    46\n",
       "primary_fuel                  0\n",
       "other_fuel1                 709\n",
       "other_fuel2                 906\n",
       "other_fuel3                 907\n",
       "commissioning_year          380\n",
       "owner                       565\n",
       "source                        0\n",
       "url                           0\n",
       "geolocation_source           19\n",
       "wepp_id                     907\n",
       "year_of_capacity_data       388\n",
       "generation_gwh_2013         907\n",
       "generation_gwh_2014         509\n",
       "generation_gwh_2015         485\n",
       "generation_gwh_2016         473\n",
       "generation_gwh_2017         467\n",
       "generation_gwh_2018         459\n",
       "generation_gwh_2019         907\n",
       "generation_data_source      458\n",
       "estimated_generation_gwh    907\n",
       "dtype: int64"
      ]
     },
     "execution_count": 6,
     "metadata": {},
     "output_type": "execute_result"
    }
   ],
   "source": [
    "#checking for null values\n",
    "gpp.isnull().sum()"
   ]
  },
  {
   "cell_type": "markdown",
   "id": "e1793ef0",
   "metadata": {},
   "source": [
    "#### Other_fuel2,other_fuel3,wepp_id,generation_gwh_2013,generation_gwh_2019 and  estimated_generation_gwh has full null values is nothing but empty columns.Im going to deleting all columns"
   ]
  },
  {
   "cell_type": "code",
   "execution_count": 7,
   "id": "0abb8cfa",
   "metadata": {},
   "outputs": [],
   "source": [
    "#Dropping unnecessary columns\n",
    "gpp.drop(columns=['other_fuel1','other_fuel2','other_fuel3','wepp_id','generation_gwh_2013',\n",
    "                 'generation_gwh_2019','estimated_generation_gwh'],axis=1,inplace=True)"
   ]
  },
  {
   "cell_type": "code",
   "execution_count": 8,
   "id": "d4c0a17b",
   "metadata": {},
   "outputs": [
    {
     "data": {
      "text/plain": [
       "(907, 20)"
      ]
     },
     "execution_count": 8,
     "metadata": {},
     "output_type": "execute_result"
    }
   ],
   "source": [
    "#After deleting the unnecessary columns shape of the dataset is\n",
    "gpp.shape"
   ]
  },
  {
   "cell_type": "markdown",
   "id": "fc9142fa",
   "metadata": {},
   "source": [
    "#### Finally, ofter deleting columns we found 907 rows and 21 columns.Now, we look at filling null values "
   ]
  },
  {
   "cell_type": "code",
   "execution_count": 9,
   "id": "e7e55c71",
   "metadata": {},
   "outputs": [
    {
     "data": {
      "text/plain": [
       "24.1917    3\n",
       "19.0004    3\n",
       "15.2615    2\n",
       "13.2450    2\n",
       "11.5336    2\n",
       "          ..\n",
       "16.4994    1\n",
       "9.0870     1\n",
       "20.9099    1\n",
       "17.2387    1\n",
       "16.5973    1\n",
       "Name: latitude, Length: 836, dtype: int64"
      ]
     },
     "execution_count": 9,
     "metadata": {},
     "output_type": "execute_result"
    }
   ],
   "source": [
    "# latitude\n",
    "gpp['latitude'].value_counts()"
   ]
  },
  {
   "cell_type": "code",
   "execution_count": 10,
   "id": "5d40d4ca",
   "metadata": {},
   "outputs": [],
   "source": [
    "gpp['latitude'] = (gpp['latitude'].fillna('24.1917'))"
   ]
  },
  {
   "cell_type": "code",
   "execution_count": 11,
   "id": "b70b816a",
   "metadata": {},
   "outputs": [
    {
     "data": {
      "text/plain": [
       "71.6917    4\n",
       "72.8983    3\n",
       "81.2875    3\n",
       "75.8988    3\n",
       "71.6918    3\n",
       "          ..\n",
       "77.9576    1\n",
       "91.8114    1\n",
       "80.1264    1\n",
       "76.1137    1\n",
       "79.5748    1\n",
       "Name: longitude, Length: 827, dtype: int64"
      ]
     },
     "execution_count": 11,
     "metadata": {},
     "output_type": "execute_result"
    }
   ],
   "source": [
    "gpp['longitude'].value_counts()"
   ]
  },
  {
   "cell_type": "code",
   "execution_count": 12,
   "id": "a6e3ae59",
   "metadata": {},
   "outputs": [],
   "source": [
    "gpp['longitude'] = (gpp['longitude'].fillna('71.6917'))"
   ]
  },
  {
   "cell_type": "code",
   "execution_count": 13,
   "id": "993062ee",
   "metadata": {},
   "outputs": [
    {
     "data": {
      "text/plain": [
       "country                     0\n",
       "country_long                0\n",
       "name                        0\n",
       "gppd_idnr                   0\n",
       "capacity_mw                 0\n",
       "latitude                    0\n",
       "longitude                   0\n",
       "primary_fuel                0\n",
       "commissioning_year        380\n",
       "owner                     565\n",
       "source                      0\n",
       "url                         0\n",
       "geolocation_source         19\n",
       "year_of_capacity_data     388\n",
       "generation_gwh_2014       509\n",
       "generation_gwh_2015       485\n",
       "generation_gwh_2016       473\n",
       "generation_gwh_2017       467\n",
       "generation_gwh_2018       459\n",
       "generation_data_source    458\n",
       "dtype: int64"
      ]
     },
     "execution_count": 13,
     "metadata": {},
     "output_type": "execute_result"
    }
   ],
   "source": [
    "gpp.isnull().sum()"
   ]
  },
  {
   "cell_type": "code",
   "execution_count": 14,
   "id": "8947aa26",
   "metadata": {},
   "outputs": [
    {
     "data": {
      "text/plain": [
       "2015.0    28\n",
       "2013.0    25\n",
       "2012.0    23\n",
       "2016.0    19\n",
       "2010.0    18\n",
       "          ..\n",
       "1958.0     1\n",
       "1949.0     1\n",
       "1954.0     1\n",
       "1956.0     1\n",
       "1927.0     1\n",
       "Name: commissioning_year, Length: 73, dtype: int64"
      ]
     },
     "execution_count": 14,
     "metadata": {},
     "output_type": "execute_result"
    }
   ],
   "source": [
    "#checking the values in columns in 'commissioning_year'\n",
    "gpp['commissioning_year'].value_counts()"
   ]
  },
  {
   "cell_type": "code",
   "execution_count": 15,
   "id": "8495592f",
   "metadata": {},
   "outputs": [],
   "source": [
    "# Fillig null values in 'commisioning_year' column\n",
    "gpp['commissioning_year'] =gpp['commissioning_year'].fillna('2015')\n"
   ]
  },
  {
   "cell_type": "code",
   "execution_count": 16,
   "id": "e9c7cc57",
   "metadata": {},
   "outputs": [
    {
     "data": {
      "text/plain": [
       "Jk Cement ltd                               4\n",
       "Acc Acc ltd                                 4\n",
       "Sterling Agro Industries ltd.               4\n",
       "Tata Power Solar Systems Limited (TPREL)    3\n",
       "Shri Ssk ltd                                3\n",
       "                                           ..\n",
       "Punj Lloyd Solar Private Limited            1\n",
       "Chettinad Corp ltd                          1\n",
       "Rucha Soya Industries Limited               1\n",
       "Mukesh Gupta group                          1\n",
       "Abellon CleanEnergy Limited                 1\n",
       "Name: owner, Length: 280, dtype: int64"
      ]
     },
     "execution_count": 16,
     "metadata": {},
     "output_type": "execute_result"
    }
   ],
   "source": [
    "# checking owner columns values\n",
    "gpp['owner'].value_counts()"
   ]
  },
  {
   "cell_type": "code",
   "execution_count": 17,
   "id": "6d3430a6",
   "metadata": {},
   "outputs": [],
   "source": [
    "#Owner\n",
    "gpp['owner'] = gpp['owner'].fillna('Jk Cement ltd')"
   ]
  },
  {
   "cell_type": "code",
   "execution_count": 18,
   "id": "38af9861",
   "metadata": {},
   "outputs": [
    {
     "data": {
      "text/plain": [
       "WRI                                     765\n",
       "Industry About                          119\n",
       "National Renewable Energy Laboratory      4\n",
       "Name: geolocation_source, dtype: int64"
      ]
     },
     "execution_count": 18,
     "metadata": {},
     "output_type": "execute_result"
    }
   ],
   "source": [
    "#geolocation_source\n",
    "gpp['geolocation_source'].value_counts()"
   ]
  },
  {
   "cell_type": "code",
   "execution_count": 19,
   "id": "c13fc640",
   "metadata": {},
   "outputs": [],
   "source": [
    "#Fill nullvalues of geolocation_source\n",
    "gpp['geolocation_source'] = gpp['geolocation_source'].fillna('WRI')"
   ]
  },
  {
   "cell_type": "code",
   "execution_count": 20,
   "id": "08abc606",
   "metadata": {},
   "outputs": [
    {
     "data": {
      "text/plain": [
       "2019.0    519\n",
       "Name: year_of_capacity_data, dtype: int64"
      ]
     },
     "execution_count": 20,
     "metadata": {},
     "output_type": "execute_result"
    }
   ],
   "source": [
    "#year_of_capacity_data\n",
    "gpp['year_of_capacity_data'].value_counts()"
   ]
  },
  {
   "cell_type": "code",
   "execution_count": 21,
   "id": "9f075ba4",
   "metadata": {},
   "outputs": [],
   "source": [
    "#filling null values \n",
    "gpp['year_of_capacity_data'] = gpp['year_of_capacity_data'].fillna('2019.0')"
   ]
  },
  {
   "cell_type": "code",
   "execution_count": 22,
   "id": "187f8d79",
   "metadata": {},
   "outputs": [
    {
     "data": {
      "text/plain": [
       "country                     0\n",
       "country_long                0\n",
       "name                        0\n",
       "gppd_idnr                   0\n",
       "capacity_mw                 0\n",
       "latitude                    0\n",
       "longitude                   0\n",
       "primary_fuel                0\n",
       "commissioning_year          0\n",
       "owner                       0\n",
       "source                      0\n",
       "url                         0\n",
       "geolocation_source          0\n",
       "year_of_capacity_data       0\n",
       "generation_gwh_2014       509\n",
       "generation_gwh_2015       485\n",
       "generation_gwh_2016       473\n",
       "generation_gwh_2017       467\n",
       "generation_gwh_2018       459\n",
       "generation_data_source    458\n",
       "dtype: int64"
      ]
     },
     "execution_count": 22,
     "metadata": {},
     "output_type": "execute_result"
    }
   ],
   "source": [
    "gpp.isnull().sum()"
   ]
  },
  {
   "cell_type": "code",
   "execution_count": 23,
   "id": "4c726f51",
   "metadata": {},
   "outputs": [
    {
     "data": {
      "text/plain": [
       "0.00000       28\n",
       "6803.31250     1\n",
       "4735.13000     1\n",
       "145.81400      1\n",
       "2022.57000     1\n",
       "              ..\n",
       "6224.00000     1\n",
       "268.48085      1\n",
       "1255.73200     1\n",
       "164.32425      1\n",
       "1153.65300     1\n",
       "Name: generation_gwh_2014, Length: 371, dtype: int64"
      ]
     },
     "execution_count": 23,
     "metadata": {},
     "output_type": "execute_result"
    }
   ],
   "source": [
    "#generation_gwh_2014\n",
    "gpp['generation_gwh_2014'].value_counts()"
   ]
  },
  {
   "cell_type": "code",
   "execution_count": 24,
   "id": "3d74c34e",
   "metadata": {},
   "outputs": [],
   "source": [
    "gpp['generation_gwh_2014'].fillna(gpp['generation_gwh_2014'].mean(),inplace=True)"
   ]
  },
  {
   "cell_type": "code",
   "execution_count": 25,
   "id": "196e43f3",
   "metadata": {},
   "outputs": [
    {
     "data": {
      "text/plain": [
       "country                     0\n",
       "country_long                0\n",
       "name                        0\n",
       "gppd_idnr                   0\n",
       "capacity_mw                 0\n",
       "latitude                    0\n",
       "longitude                   0\n",
       "primary_fuel                0\n",
       "commissioning_year          0\n",
       "owner                       0\n",
       "source                      0\n",
       "url                         0\n",
       "geolocation_source          0\n",
       "year_of_capacity_data       0\n",
       "generation_gwh_2014         0\n",
       "generation_gwh_2015       485\n",
       "generation_gwh_2016       473\n",
       "generation_gwh_2017       467\n",
       "generation_gwh_2018       459\n",
       "generation_data_source    458\n",
       "dtype: int64"
      ]
     },
     "execution_count": 25,
     "metadata": {},
     "output_type": "execute_result"
    }
   ],
   "source": [
    "gpp.isnull().sum()"
   ]
  },
  {
   "cell_type": "code",
   "execution_count": 26,
   "id": "c13ca0b8",
   "metadata": {},
   "outputs": [
    {
     "data": {
      "text/plain": [
       "0.00000       27\n",
       "174.17475      1\n",
       "8076.81050     1\n",
       "1.09395        1\n",
       "18.71595       1\n",
       "              ..\n",
       "665.19730      1\n",
       "1516.36010     1\n",
       "741.86205      1\n",
       "183.29890      1\n",
       "7130.50700     1\n",
       "Name: generation_gwh_2015, Length: 396, dtype: int64"
      ]
     },
     "execution_count": 26,
     "metadata": {},
     "output_type": "execute_result"
    }
   ],
   "source": [
    "#generation_gwh_2015\n",
    "gpp['generation_gwh_2015'].value_counts()"
   ]
  },
  {
   "cell_type": "code",
   "execution_count": 27,
   "id": "920a3627",
   "metadata": {},
   "outputs": [],
   "source": [
    "gpp['generation_gwh_2015'].fillna(gpp['generation_gwh_2015'].mean(),inplace=True)"
   ]
  },
  {
   "cell_type": "code",
   "execution_count": 28,
   "id": "4f08a2a0",
   "metadata": {},
   "outputs": [
    {
     "data": {
      "text/plain": [
       "0.00000       30\n",
       "8470.57000     2\n",
       "1511.00000     2\n",
       "250.97100      1\n",
       "7.31325        1\n",
       "              ..\n",
       "433.84800      1\n",
       "283.74811      1\n",
       "259.94375      1\n",
       "403.96000      1\n",
       "307.87290      1\n",
       "Name: generation_gwh_2016, Length: 403, dtype: int64"
      ]
     },
     "execution_count": 28,
     "metadata": {},
     "output_type": "execute_result"
    }
   ],
   "source": [
    "#generation_gwh_2016\n",
    "gpp['generation_gwh_2016'].value_counts()"
   ]
  },
  {
   "cell_type": "code",
   "execution_count": 29,
   "id": "98b944ef",
   "metadata": {},
   "outputs": [],
   "source": [
    "gpp['generation_gwh_2016'].fillna(gpp['generation_gwh_2016'].mean(),inplace=True)"
   ]
  },
  {
   "cell_type": "code",
   "execution_count": 30,
   "id": "fecb5b0f",
   "metadata": {},
   "outputs": [
    {
     "data": {
      "text/plain": [
       "0.00000       32\n",
       "170.08530      2\n",
       "9271.00000     1\n",
       "59.43135       1\n",
       "549.86930      1\n",
       "              ..\n",
       "214.48220      1\n",
       "272.73945      1\n",
       "2887.00000     1\n",
       "12.73600       1\n",
       "158.73235      1\n",
       "Name: generation_gwh_2017, Length: 408, dtype: int64"
      ]
     },
     "execution_count": 30,
     "metadata": {},
     "output_type": "execute_result"
    }
   ],
   "source": [
    "#generation_gwh_2017\n",
    "gpp['generation_gwh_2017'].value_counts()"
   ]
  },
  {
   "cell_type": "code",
   "execution_count": 31,
   "id": "82fddf33",
   "metadata": {},
   "outputs": [],
   "source": [
    "gpp['generation_gwh_2017'].fillna(gpp['generation_gwh_2017'].mean(),inplace=True)"
   ]
  },
  {
   "cell_type": "code",
   "execution_count": 32,
   "id": "17b330c4",
   "metadata": {},
   "outputs": [
    {
     "data": {
      "text/plain": [
       "0.00000       39\n",
       "100.85320      1\n",
       "805.48235      1\n",
       "7179.00000     1\n",
       "6915.39000     1\n",
       "              ..\n",
       "980.25410      1\n",
       "33.88970       1\n",
       "6474.61425     1\n",
       "347.34455      1\n",
       "192.01510      1\n",
       "Name: generation_gwh_2018, Length: 410, dtype: int64"
      ]
     },
     "execution_count": 32,
     "metadata": {},
     "output_type": "execute_result"
    }
   ],
   "source": [
    "#generation_gwh_2018\n",
    "gpp['generation_gwh_2018'].value_counts()"
   ]
  },
  {
   "cell_type": "code",
   "execution_count": 33,
   "id": "3a25318b",
   "metadata": {},
   "outputs": [],
   "source": [
    "gpp['generation_gwh_2018'].fillna(gpp['generation_gwh_2018'].mean(),inplace=True)"
   ]
  },
  {
   "cell_type": "code",
   "execution_count": 34,
   "id": "15749eac",
   "metadata": {},
   "outputs": [
    {
     "data": {
      "text/plain": [
       "Central Electricity Authority    449\n",
       "Name: generation_data_source, dtype: int64"
      ]
     },
     "execution_count": 34,
     "metadata": {},
     "output_type": "execute_result"
    }
   ],
   "source": [
    "#generation_data_source\n",
    "gpp['generation_data_source'].value_counts()"
   ]
  },
  {
   "cell_type": "code",
   "execution_count": 35,
   "id": "b5f82968",
   "metadata": {},
   "outputs": [],
   "source": [
    "gpp['generation_data_source']=gpp['generation_data_source'].fillna('Central Electricity Authority')"
   ]
  },
  {
   "cell_type": "code",
   "execution_count": 36,
   "id": "a0fafc5f",
   "metadata": {},
   "outputs": [
    {
     "data": {
      "text/plain": [
       "country                   0\n",
       "country_long              0\n",
       "name                      0\n",
       "gppd_idnr                 0\n",
       "capacity_mw               0\n",
       "latitude                  0\n",
       "longitude                 0\n",
       "primary_fuel              0\n",
       "commissioning_year        0\n",
       "owner                     0\n",
       "source                    0\n",
       "url                       0\n",
       "geolocation_source        0\n",
       "year_of_capacity_data     0\n",
       "generation_gwh_2014       0\n",
       "generation_gwh_2015       0\n",
       "generation_gwh_2016       0\n",
       "generation_gwh_2017       0\n",
       "generation_gwh_2018       0\n",
       "generation_data_source    0\n",
       "dtype: int64"
      ]
     },
     "execution_count": 36,
     "metadata": {},
     "output_type": "execute_result"
    }
   ],
   "source": [
    "gpp.isnull().sum()"
   ]
  },
  {
   "cell_type": "code",
   "execution_count": 37,
   "id": "a9f1fa32",
   "metadata": {},
   "outputs": [
    {
     "data": {
      "text/plain": [
       "Central Electricity Authority                519\n",
       "CDM                                          124\n",
       "Lancosola                                     10\n",
       "National Renewable Energy Laboratory           8\n",
       "National Thermal Power Corporation (NTPC)      6\n",
       "                                            ... \n",
       "Unity Power Limite r World                     1\n",
       "Ambed K Sugar                                  1\n",
       "Vikram Vikram cement                           1\n",
       "Sunkon Energy Private Limited                  1\n",
       "Hiraco India                                   1\n",
       "Name: source, Length: 191, dtype: int64"
      ]
     },
     "execution_count": 37,
     "metadata": {},
     "output_type": "execute_result"
    }
   ],
   "source": [
    "gpp['source'].value_counts()"
   ]
  },
  {
   "cell_type": "code",
   "execution_count": 38,
   "id": "07b6c507",
   "metadata": {},
   "outputs": [
    {
     "data": {
      "text/html": [
       "<div>\n",
       "<style scoped>\n",
       "    .dataframe tbody tr th:only-of-type {\n",
       "        vertical-align: middle;\n",
       "    }\n",
       "\n",
       "    .dataframe tbody tr th {\n",
       "        vertical-align: top;\n",
       "    }\n",
       "\n",
       "    .dataframe thead th {\n",
       "        text-align: right;\n",
       "    }\n",
       "</style>\n",
       "<table border=\"1\" class=\"dataframe\">\n",
       "  <thead>\n",
       "    <tr style=\"text-align: right;\">\n",
       "      <th></th>\n",
       "      <th>capacity_mw</th>\n",
       "      <th>generation_gwh_2014</th>\n",
       "      <th>generation_gwh_2015</th>\n",
       "      <th>generation_gwh_2016</th>\n",
       "      <th>generation_gwh_2017</th>\n",
       "      <th>generation_gwh_2018</th>\n",
       "    </tr>\n",
       "  </thead>\n",
       "  <tbody>\n",
       "    <tr>\n",
       "      <th>count</th>\n",
       "      <td>907.000000</td>\n",
       "      <td>907.000000</td>\n",
       "      <td>907.000000</td>\n",
       "      <td>907.000000</td>\n",
       "      <td>907.000000</td>\n",
       "      <td>907.000000</td>\n",
       "    </tr>\n",
       "    <tr>\n",
       "      <th>mean</th>\n",
       "      <td>326.223755</td>\n",
       "      <td>2431.823590</td>\n",
       "      <td>2428.226946</td>\n",
       "      <td>2467.936859</td>\n",
       "      <td>2547.759305</td>\n",
       "      <td>2600.804099</td>\n",
       "    </tr>\n",
       "    <tr>\n",
       "      <th>std</th>\n",
       "      <td>590.085456</td>\n",
       "      <td>2665.338608</td>\n",
       "      <td>2859.349132</td>\n",
       "      <td>2877.890004</td>\n",
       "      <td>2921.502193</td>\n",
       "      <td>3030.808041</td>\n",
       "    </tr>\n",
       "    <tr>\n",
       "      <th>min</th>\n",
       "      <td>0.000000</td>\n",
       "      <td>0.000000</td>\n",
       "      <td>0.000000</td>\n",
       "      <td>0.000000</td>\n",
       "      <td>0.000000</td>\n",
       "      <td>0.000000</td>\n",
       "    </tr>\n",
       "    <tr>\n",
       "      <th>25%</th>\n",
       "      <td>16.725000</td>\n",
       "      <td>1211.362750</td>\n",
       "      <td>916.000000</td>\n",
       "      <td>896.500214</td>\n",
       "      <td>882.594850</td>\n",
       "      <td>824.842340</td>\n",
       "    </tr>\n",
       "    <tr>\n",
       "      <th>50%</th>\n",
       "      <td>59.200000</td>\n",
       "      <td>2431.823590</td>\n",
       "      <td>2428.226946</td>\n",
       "      <td>2467.936859</td>\n",
       "      <td>2547.759305</td>\n",
       "      <td>2600.804099</td>\n",
       "    </tr>\n",
       "    <tr>\n",
       "      <th>75%</th>\n",
       "      <td>385.250000</td>\n",
       "      <td>2431.823590</td>\n",
       "      <td>2428.226946</td>\n",
       "      <td>2467.936859</td>\n",
       "      <td>2547.759305</td>\n",
       "      <td>2600.804099</td>\n",
       "    </tr>\n",
       "    <tr>\n",
       "      <th>max</th>\n",
       "      <td>4760.000000</td>\n",
       "      <td>28127.000000</td>\n",
       "      <td>30539.000000</td>\n",
       "      <td>30015.000000</td>\n",
       "      <td>35116.000000</td>\n",
       "      <td>35136.000000</td>\n",
       "    </tr>\n",
       "  </tbody>\n",
       "</table>\n",
       "</div>"
      ],
      "text/plain": [
       "       capacity_mw  generation_gwh_2014  generation_gwh_2015  \\\n",
       "count   907.000000           907.000000           907.000000   \n",
       "mean    326.223755          2431.823590          2428.226946   \n",
       "std     590.085456          2665.338608          2859.349132   \n",
       "min       0.000000             0.000000             0.000000   \n",
       "25%      16.725000          1211.362750           916.000000   \n",
       "50%      59.200000          2431.823590          2428.226946   \n",
       "75%     385.250000          2431.823590          2428.226946   \n",
       "max    4760.000000         28127.000000         30539.000000   \n",
       "\n",
       "       generation_gwh_2016  generation_gwh_2017  generation_gwh_2018  \n",
       "count           907.000000           907.000000           907.000000  \n",
       "mean           2467.936859          2547.759305          2600.804099  \n",
       "std            2877.890004          2921.502193          3030.808041  \n",
       "min               0.000000             0.000000             0.000000  \n",
       "25%             896.500214           882.594850           824.842340  \n",
       "50%            2467.936859          2547.759305          2600.804099  \n",
       "75%            2467.936859          2547.759305          2600.804099  \n",
       "max           30015.000000         35116.000000         35136.000000  "
      ]
     },
     "execution_count": 38,
     "metadata": {},
     "output_type": "execute_result"
    }
   ],
   "source": [
    "gpp.describe()"
   ]
  },
  {
   "cell_type": "code",
   "execution_count": 39,
   "id": "fd1a9fd3",
   "metadata": {},
   "outputs": [
    {
     "data": {
      "text/html": [
       "<div>\n",
       "<style scoped>\n",
       "    .dataframe tbody tr th:only-of-type {\n",
       "        vertical-align: middle;\n",
       "    }\n",
       "\n",
       "    .dataframe tbody tr th {\n",
       "        vertical-align: top;\n",
       "    }\n",
       "\n",
       "    .dataframe thead th {\n",
       "        text-align: right;\n",
       "    }\n",
       "</style>\n",
       "<table border=\"1\" class=\"dataframe\">\n",
       "  <thead>\n",
       "    <tr style=\"text-align: right;\">\n",
       "      <th></th>\n",
       "      <th>capacity_mw</th>\n",
       "      <th>generation_gwh_2014</th>\n",
       "      <th>generation_gwh_2015</th>\n",
       "      <th>generation_gwh_2016</th>\n",
       "      <th>generation_gwh_2017</th>\n",
       "      <th>generation_gwh_2018</th>\n",
       "    </tr>\n",
       "  </thead>\n",
       "  <tbody>\n",
       "    <tr>\n",
       "      <th>capacity_mw</th>\n",
       "      <td>1.000000</td>\n",
       "      <td>0.694350</td>\n",
       "      <td>0.711190</td>\n",
       "      <td>0.742221</td>\n",
       "      <td>0.757585</td>\n",
       "      <td>0.773456</td>\n",
       "    </tr>\n",
       "    <tr>\n",
       "      <th>generation_gwh_2014</th>\n",
       "      <td>0.694350</td>\n",
       "      <td>1.000000</td>\n",
       "      <td>0.953594</td>\n",
       "      <td>0.925874</td>\n",
       "      <td>0.891687</td>\n",
       "      <td>0.884956</td>\n",
       "    </tr>\n",
       "    <tr>\n",
       "      <th>generation_gwh_2015</th>\n",
       "      <td>0.711190</td>\n",
       "      <td>0.953594</td>\n",
       "      <td>1.000000</td>\n",
       "      <td>0.968888</td>\n",
       "      <td>0.928242</td>\n",
       "      <td>0.923461</td>\n",
       "    </tr>\n",
       "    <tr>\n",
       "      <th>generation_gwh_2016</th>\n",
       "      <td>0.742221</td>\n",
       "      <td>0.925874</td>\n",
       "      <td>0.968888</td>\n",
       "      <td>1.000000</td>\n",
       "      <td>0.964649</td>\n",
       "      <td>0.957159</td>\n",
       "    </tr>\n",
       "    <tr>\n",
       "      <th>generation_gwh_2017</th>\n",
       "      <td>0.757585</td>\n",
       "      <td>0.891687</td>\n",
       "      <td>0.928242</td>\n",
       "      <td>0.964649</td>\n",
       "      <td>1.000000</td>\n",
       "      <td>0.982689</td>\n",
       "    </tr>\n",
       "    <tr>\n",
       "      <th>generation_gwh_2018</th>\n",
       "      <td>0.773456</td>\n",
       "      <td>0.884956</td>\n",
       "      <td>0.923461</td>\n",
       "      <td>0.957159</td>\n",
       "      <td>0.982689</td>\n",
       "      <td>1.000000</td>\n",
       "    </tr>\n",
       "  </tbody>\n",
       "</table>\n",
       "</div>"
      ],
      "text/plain": [
       "                     capacity_mw  generation_gwh_2014  generation_gwh_2015  \\\n",
       "capacity_mw             1.000000             0.694350             0.711190   \n",
       "generation_gwh_2014     0.694350             1.000000             0.953594   \n",
       "generation_gwh_2015     0.711190             0.953594             1.000000   \n",
       "generation_gwh_2016     0.742221             0.925874             0.968888   \n",
       "generation_gwh_2017     0.757585             0.891687             0.928242   \n",
       "generation_gwh_2018     0.773456             0.884956             0.923461   \n",
       "\n",
       "                     generation_gwh_2016  generation_gwh_2017  \\\n",
       "capacity_mw                     0.742221             0.757585   \n",
       "generation_gwh_2014             0.925874             0.891687   \n",
       "generation_gwh_2015             0.968888             0.928242   \n",
       "generation_gwh_2016             1.000000             0.964649   \n",
       "generation_gwh_2017             0.964649             1.000000   \n",
       "generation_gwh_2018             0.957159             0.982689   \n",
       "\n",
       "                     generation_gwh_2018  \n",
       "capacity_mw                     0.773456  \n",
       "generation_gwh_2014             0.884956  \n",
       "generation_gwh_2015             0.923461  \n",
       "generation_gwh_2016             0.957159  \n",
       "generation_gwh_2017             0.982689  \n",
       "generation_gwh_2018             1.000000  "
      ]
     },
     "execution_count": 39,
     "metadata": {},
     "output_type": "execute_result"
    }
   ],
   "source": [
    "#correlation metrix\n",
    "gpp.corr()\n"
   ]
  },
  {
   "cell_type": "code",
   "execution_count": 40,
   "id": "bfcac8a3",
   "metadata": {},
   "outputs": [
    {
     "data": {
      "text/plain": [
       "Index(['country', 'country_long', 'name', 'gppd_idnr', 'capacity_mw',\n",
       "       'latitude', 'longitude', 'primary_fuel', 'commissioning_year', 'owner',\n",
       "       'source', 'url', 'geolocation_source', 'year_of_capacity_data',\n",
       "       'generation_gwh_2014', 'generation_gwh_2015', 'generation_gwh_2016',\n",
       "       'generation_gwh_2017', 'generation_gwh_2018', 'generation_data_source'],\n",
       "      dtype='object')"
      ]
     },
     "execution_count": 40,
     "metadata": {},
     "output_type": "execute_result"
    }
   ],
   "source": [
    "gpp.columns"
   ]
  },
  {
   "cell_type": "code",
   "execution_count": 41,
   "id": "db1a31e2",
   "metadata": {},
   "outputs": [
    {
     "data": {
      "text/plain": [
       "Coal       258\n",
       "Hydro      251\n",
       "Solar      127\n",
       "Wind       123\n",
       "Gas         69\n",
       "Biomass     50\n",
       "Oil         20\n",
       "Nuclear      9\n",
       "Name: primary_fuel, dtype: int64"
      ]
     },
     "execution_count": 41,
     "metadata": {},
     "output_type": "execute_result"
    }
   ],
   "source": [
    "gpp['primary_fuel'].value_counts()"
   ]
  },
  {
   "cell_type": "code",
   "execution_count": 42,
   "id": "eb3ccd74",
   "metadata": {},
   "outputs": [
    {
     "data": {
      "text/plain": [
       "<AxesSubplot:xlabel='primary_fuel', ylabel='count'>"
      ]
     },
     "execution_count": 42,
     "metadata": {},
     "output_type": "execute_result"
    },
    {
     "data": {
      "image/png": "[encoded data removed]",
      "text/plain": [
       "<Figure size 432x288 with 1 Axes>"
      ]
     },
     "metadata": {
      "needs_background": "light"
     },
     "output_type": "display_data"
    }
   ],
   "source": [
    "sns.countplot(x='primary_fuel',data=gpp)"
   ]
  },
  {
   "cell_type": "code",
   "execution_count": 43,
   "id": "c5ee3836",
   "metadata": {},
   "outputs": [
    {
     "data": {
      "image/png": "[encoded data removed]",
      "text/plain": [
       "<Figure size 432x288 with 1 Axes>"
      ]
     },
     "metadata": {
      "needs_background": "light"
     },
     "output_type": "display_data"
    }
   ],
   "source": [
    "#plt.figure(figsize=(10,8))\n",
    "sns.barplot(x='primary_fuel',y='capacity_mw',data=gpp,hue='primary_fuel')\n",
    "plt.xticks(rotation=90)\n",
    "plt.show()"
   ]
  },
  {
   "cell_type": "code",
   "execution_count": 44,
   "id": "5eb126f2",
   "metadata": {},
   "outputs": [
    {
     "data": {
      "text/plain": [
       "Text(0.5, 1.0, 'Power Plants based on primary Fuel')"
      ]
     },
     "execution_count": 44,
     "metadata": {},
     "output_type": "execute_result"
    },
    {
     "data": {
      "image/png": "[encoded data removed]",
      "text/plain": [
       "<Figure size 1080x360 with 2 Axes>"
      ]
     },
     "metadata": {
      "needs_background": "light"
     },
     "output_type": "display_data"
    }
   ],
   "source": [
    "plt.figure(figsize=(15,5))\n",
    "ax = plt.subplot(1,2,1)\n",
    "gpp.groupby([\"primary_fuel\"])[[\"capacity_mw\"]].sum().sort_values(by=\"capacity_mw\").plot(kind=\"barh\",ax=ax)\n",
    "plt.title(\"Electrical generating capacity (MW sum) by primary_fuel\");\n",
    "\n",
    "ax = plt.subplot(1,2,2)\n",
    "gpp.groupby([\"primary_fuel\"])[[\"name\"]].count().sort_values(by=\"name\", ascending=False).plot(kind=\"bar\",ax=ax)\n",
    "plt.title(\"Power Plants based on primary Fuel\")"
   ]
  },
  {
   "cell_type": "code",
   "execution_count": 45,
   "id": "bbd9c115",
   "metadata": {},
   "outputs": [],
   "source": [
    "#encoding the data in the primary_fuel field\n",
    "from sklearn.preprocessing import LabelEncoder\n",
    "le = LabelEncoder()\n",
    "gpp['primary_fuel'] = le.fit_transform(gpp['primary_fuel'])\n"
   ]
  },
  {
   "cell_type": "code",
   "execution_count": 46,
   "id": "1127bf37",
   "metadata": {},
   "outputs": [
    {
     "data": {
      "text/html": [
       "<div>\n",
       "<style scoped>\n",
       "    .dataframe tbody tr th:only-of-type {\n",
       "        vertical-align: middle;\n",
       "    }\n",
       "\n",
       "    .dataframe tbody tr th {\n",
       "        vertical-align: top;\n",
       "    }\n",
       "\n",
       "    .dataframe thead th {\n",
       "        text-align: right;\n",
       "    }\n",
       "</style>\n",
       "<table border=\"1\" class=\"dataframe\">\n",
       "  <thead>\n",
       "    <tr style=\"text-align: right;\">\n",
       "      <th></th>\n",
       "      <th>country</th>\n",
       "      <th>country_long</th>\n",
       "      <th>name</th>\n",
       "      <th>gppd_idnr</th>\n",
       "      <th>capacity_mw</th>\n",
       "      <th>latitude</th>\n",
       "      <th>longitude</th>\n",
       "      <th>primary_fuel</th>\n",
       "      <th>commissioning_year</th>\n",
       "      <th>owner</th>\n",
       "      <th>source</th>\n",
       "      <th>url</th>\n",
       "      <th>geolocation_source</th>\n",
       "      <th>year_of_capacity_data</th>\n",
       "      <th>generation_gwh_2014</th>\n",
       "      <th>generation_gwh_2015</th>\n",
       "      <th>generation_gwh_2016</th>\n",
       "      <th>generation_gwh_2017</th>\n",
       "      <th>generation_gwh_2018</th>\n",
       "      <th>generation_data_source</th>\n",
       "    </tr>\n",
       "  </thead>\n",
       "  <tbody>\n",
       "    <tr>\n",
       "      <th>0</th>\n",
       "      <td>IND</td>\n",
       "      <td>India</td>\n",
       "      <td>ACME Solar Tower</td>\n",
       "      <td>WRI1020239</td>\n",
       "      <td>2.5</td>\n",
       "      <td>28.1839</td>\n",
       "      <td>73.2407</td>\n",
       "      <td>6</td>\n",
       "      <td>2011.0</td>\n",
       "      <td>Solar Paces</td>\n",
       "      <td>National Renewable Energy Laboratory</td>\n",
       "      <td>http://www.nrel.gov/csp/solarpaces/project_det...</td>\n",
       "      <td>National Renewable Energy Laboratory</td>\n",
       "      <td>2019.0</td>\n",
       "      <td>2431.823590</td>\n",
       "      <td>2428.226946</td>\n",
       "      <td>2467.936859</td>\n",
       "      <td>2547.759305</td>\n",
       "      <td>2600.804099</td>\n",
       "      <td>Central Electricity Authority</td>\n",
       "    </tr>\n",
       "    <tr>\n",
       "      <th>1</th>\n",
       "      <td>IND</td>\n",
       "      <td>India</td>\n",
       "      <td>ADITYA CEMENT WORKS</td>\n",
       "      <td>WRI1019881</td>\n",
       "      <td>98.0</td>\n",
       "      <td>24.7663</td>\n",
       "      <td>74.609</td>\n",
       "      <td>1</td>\n",
       "      <td>2015</td>\n",
       "      <td>Ultratech Cement ltd</td>\n",
       "      <td>Ultratech Cement ltd</td>\n",
       "      <td>http://www.ultratechcement.com/</td>\n",
       "      <td>WRI</td>\n",
       "      <td>2019.0</td>\n",
       "      <td>2431.823590</td>\n",
       "      <td>2428.226946</td>\n",
       "      <td>2467.936859</td>\n",
       "      <td>2547.759305</td>\n",
       "      <td>2600.804099</td>\n",
       "      <td>Central Electricity Authority</td>\n",
       "    </tr>\n",
       "    <tr>\n",
       "      <th>2</th>\n",
       "      <td>IND</td>\n",
       "      <td>India</td>\n",
       "      <td>AES Saurashtra Windfarms</td>\n",
       "      <td>WRI1026669</td>\n",
       "      <td>39.2</td>\n",
       "      <td>21.9038</td>\n",
       "      <td>69.3732</td>\n",
       "      <td>7</td>\n",
       "      <td>2015</td>\n",
       "      <td>AES</td>\n",
       "      <td>CDM</td>\n",
       "      <td>https://cdm.unfccc.int/Projects/DB/DNV-CUK1328...</td>\n",
       "      <td>WRI</td>\n",
       "      <td>2019.0</td>\n",
       "      <td>2431.823590</td>\n",
       "      <td>2428.226946</td>\n",
       "      <td>2467.936859</td>\n",
       "      <td>2547.759305</td>\n",
       "      <td>2600.804099</td>\n",
       "      <td>Central Electricity Authority</td>\n",
       "    </tr>\n",
       "    <tr>\n",
       "      <th>3</th>\n",
       "      <td>IND</td>\n",
       "      <td>India</td>\n",
       "      <td>AGARTALA GT</td>\n",
       "      <td>IND0000001</td>\n",
       "      <td>135.0</td>\n",
       "      <td>23.8712</td>\n",
       "      <td>91.3602</td>\n",
       "      <td>2</td>\n",
       "      <td>2004.0</td>\n",
       "      <td>Jk Cement ltd</td>\n",
       "      <td>Central Electricity Authority</td>\n",
       "      <td>http://www.cea.nic.in/</td>\n",
       "      <td>WRI</td>\n",
       "      <td>2019.0</td>\n",
       "      <td>617.789264</td>\n",
       "      <td>843.747000</td>\n",
       "      <td>886.004428</td>\n",
       "      <td>663.774500</td>\n",
       "      <td>626.239128</td>\n",
       "      <td>Central Electricity Authority</td>\n",
       "    </tr>\n",
       "    <tr>\n",
       "      <th>4</th>\n",
       "      <td>IND</td>\n",
       "      <td>India</td>\n",
       "      <td>AKALTARA TPP</td>\n",
       "      <td>IND0000002</td>\n",
       "      <td>1800.0</td>\n",
       "      <td>21.9603</td>\n",
       "      <td>82.4091</td>\n",
       "      <td>1</td>\n",
       "      <td>2015.0</td>\n",
       "      <td>Jk Cement ltd</td>\n",
       "      <td>Central Electricity Authority</td>\n",
       "      <td>http://www.cea.nic.in/</td>\n",
       "      <td>WRI</td>\n",
       "      <td>2019.0</td>\n",
       "      <td>3035.550000</td>\n",
       "      <td>5916.370000</td>\n",
       "      <td>6243.000000</td>\n",
       "      <td>5385.579736</td>\n",
       "      <td>7279.000000</td>\n",
       "      <td>Central Electricity Authority</td>\n",
       "    </tr>\n",
       "  </tbody>\n",
       "</table>\n",
       "</div>"
      ],
      "text/plain": [
       "  country country_long                      name   gppd_idnr  capacity_mw  \\\n",
       "0     IND        India          ACME Solar Tower  WRI1020239          2.5   \n",
       "1     IND        India       ADITYA CEMENT WORKS  WRI1019881         98.0   \n",
       "2     IND        India  AES Saurashtra Windfarms  WRI1026669         39.2   \n",
       "3     IND        India               AGARTALA GT  IND0000001        135.0   \n",
       "4     IND        India              AKALTARA TPP  IND0000002       1800.0   \n",
       "\n",
       "  latitude longitude  primary_fuel commissioning_year                 owner  \\\n",
       "0  28.1839   73.2407             6             2011.0           Solar Paces   \n",
       "1  24.7663    74.609             1               2015  Ultratech Cement ltd   \n",
       "2  21.9038   69.3732             7               2015                   AES   \n",
       "3  23.8712   91.3602             2             2004.0         Jk Cement ltd   \n",
       "4  21.9603   82.4091             1             2015.0         Jk Cement ltd   \n",
       "\n",
       "                                 source  \\\n",
       "0  National Renewable Energy Laboratory   \n",
       "1                  Ultratech Cement ltd   \n",
       "2                                   CDM   \n",
       "3         Central Electricity Authority   \n",
       "4         Central Electricity Authority   \n",
       "\n",
       "                                                 url  \\\n",
       "0  http://www.nrel.gov/csp/solarpaces/project_det...   \n",
       "1                    http://www.ultratechcement.com/   \n",
       "2  https://cdm.unfccc.int/Projects/DB/DNV-CUK1328...   \n",
       "3                             http://www.cea.nic.in/   \n",
       "4                             http://www.cea.nic.in/   \n",
       "\n",
       "                     geolocation_source year_of_capacity_data  \\\n",
       "0  National Renewable Energy Laboratory                2019.0   \n",
       "1                                   WRI                2019.0   \n",
       "2                                   WRI                2019.0   \n",
       "3                                   WRI                2019.0   \n",
       "4                                   WRI                2019.0   \n",
       "\n",
       "   generation_gwh_2014  generation_gwh_2015  generation_gwh_2016  \\\n",
       "0          2431.823590          2428.226946          2467.936859   \n",
       "1          2431.823590          2428.226946          2467.936859   \n",
       "2          2431.823590          2428.226946          2467.936859   \n",
       "3           617.789264           843.747000           886.004428   \n",
       "4          3035.550000          5916.370000          6243.000000   \n",
       "\n",
       "   generation_gwh_2017  generation_gwh_2018         generation_data_source  \n",
       "0          2547.759305          2600.804099  Central Electricity Authority  \n",
       "1          2547.759305          2600.804099  Central Electricity Authority  \n",
       "2          2547.759305          2600.804099  Central Electricity Authority  \n",
       "3           663.774500           626.239128  Central Electricity Authority  \n",
       "4          5385.579736          7279.000000  Central Electricity Authority  "
      ]
     },
     "execution_count": 46,
     "metadata": {},
     "output_type": "execute_result"
    }
   ],
   "source": [
    "gpp.head()"
   ]
  },
  {
   "cell_type": "code",
   "execution_count": 47,
   "id": "dd646834",
   "metadata": {},
   "outputs": [
    {
     "data": {
      "image/png": "[encoded data removed]",
      "text/plain": [
       "<Figure size 1080x720 with 2 Axes>"
      ]
     },
     "metadata": {
      "needs_background": "light"
     },
     "output_type": "display_data"
    }
   ],
   "source": [
    "#chceking the relation between variables\n",
    "corr = gpp.corr()\n",
    "plt.figure(figsize = (15,10))\n",
    "sns.heatmap(corr,annot=True)\n",
    "plt.title(\"Correlation Matrix\")\n",
    "plt.show()"
   ]
  },
  {
   "cell_type": "code",
   "execution_count": 48,
   "id": "c54a409d",
   "metadata": {},
   "outputs": [],
   "source": [
    "#dividing feature and target variables\n",
    "x= gpp.drop(columns=['country','country_long','name','gppd_idnr','latitude','longitude','primary_fuel','commissioning_year',\n",
    "                    'owner','source','url','geolocation_source','year_of_capacity_data','generation_data_source'],axis=1)"
   ]
  },
  {
   "cell_type": "code",
   "execution_count": 49,
   "id": "e6863c35",
   "metadata": {},
   "outputs": [],
   "source": [
    "y = gpp['primary_fuel']"
   ]
  },
  {
   "cell_type": "raw",
   "id": "efc0e11c",
   "metadata": {},
   "source": [
    "#Data Scaling \n",
    "from sklearn.preprocessing import StandardScaler\n",
    "scaler = StandardScaler()\n",
    "x_scaler = scaler.fit_transform(x)\n",
    "x_scaler "
   ]
  },
  {
   "cell_type": "code",
   "execution_count": 50,
   "id": "8d1703c6",
   "metadata": {},
   "outputs": [
    {
     "data": {
      "text/plain": [
       "array([[0.00052521, 0.08645869, 0.07951233, 0.08222345, 0.07255266,\n",
       "        0.07402106],\n",
       "       [0.02058824, 0.08645869, 0.07951233, 0.08222345, 0.07255266,\n",
       "        0.07402106],\n",
       "       [0.00823529, 0.08645869, 0.07951233, 0.08222345, 0.07255266,\n",
       "        0.07402106],\n",
       "       ...,\n",
       "       [0.00535714, 0.08645869, 0.07951233, 0.08222345, 0.07255266,\n",
       "        0.07402106],\n",
       "       [0.01680672, 0.08645869, 0.07951233, 0.08222345, 0.07255266,\n",
       "        0.07402106],\n",
       "       [0.00346639, 0.08645869, 0.07951233, 0.08222345, 0.07255266,\n",
       "        0.07402106]])"
      ]
     },
     "execution_count": 50,
     "metadata": {},
     "output_type": "execute_result"
    }
   ],
   "source": [
    "from sklearn.preprocessing import MinMaxScaler\n",
    "\n",
    "mms =MinMaxScaler()\n",
    "x_scaled = mms.fit_transform(x)\n",
    "x_scaled"
   ]
  },
  {
   "cell_type": "code",
   "execution_count": 51,
   "id": "abd3249a",
   "metadata": {},
   "outputs": [
    {
     "data": {
      "text/html": [
       "<div>\n",
       "<style scoped>\n",
       "    .dataframe tbody tr th:only-of-type {\n",
       "        vertical-align: middle;\n",
       "    }\n",
       "\n",
       "    .dataframe tbody tr th {\n",
       "        vertical-align: top;\n",
       "    }\n",
       "\n",
       "    .dataframe thead th {\n",
       "        text-align: right;\n",
       "    }\n",
       "</style>\n",
       "<table border=\"1\" class=\"dataframe\">\n",
       "  <thead>\n",
       "    <tr style=\"text-align: right;\">\n",
       "      <th></th>\n",
       "      <th>vif</th>\n",
       "      <th>feature</th>\n",
       "    </tr>\n",
       "  </thead>\n",
       "  <tbody>\n",
       "    <tr>\n",
       "      <th>0</th>\n",
       "      <td>3.209326</td>\n",
       "      <td>capacity_mw</td>\n",
       "    </tr>\n",
       "    <tr>\n",
       "      <th>1</th>\n",
       "      <td>19.180318</td>\n",
       "      <td>generation_gwh_2014</td>\n",
       "    </tr>\n",
       "    <tr>\n",
       "      <th>2</th>\n",
       "      <td>44.704613</td>\n",
       "      <td>generation_gwh_2015</td>\n",
       "    </tr>\n",
       "    <tr>\n",
       "      <th>3</th>\n",
       "      <td>57.716914</td>\n",
       "      <td>generation_gwh_2016</td>\n",
       "    </tr>\n",
       "    <tr>\n",
       "      <th>4</th>\n",
       "      <td>64.734508</td>\n",
       "      <td>generation_gwh_2017</td>\n",
       "    </tr>\n",
       "    <tr>\n",
       "      <th>5</th>\n",
       "      <td>55.594957</td>\n",
       "      <td>generation_gwh_2018</td>\n",
       "    </tr>\n",
       "  </tbody>\n",
       "</table>\n",
       "</div>"
      ],
      "text/plain": [
       "         vif              feature\n",
       "0   3.209326          capacity_mw\n",
       "1  19.180318  generation_gwh_2014\n",
       "2  44.704613  generation_gwh_2015\n",
       "3  57.716914  generation_gwh_2016\n",
       "4  64.734508  generation_gwh_2017\n",
       "5  55.594957  generation_gwh_2018"
      ]
     },
     "execution_count": 51,
     "metadata": {},
     "output_type": "execute_result"
    }
   ],
   "source": [
    "#finding the variance influence factor in each column \n",
    "from statsmodels.stats.outliers_influence import variance_inflation_factor\n",
    "vif = pd.DataFrame()\n",
    "vif['vif'] = [variance_inflation_factor(x_scaled,i) for i in range(x_scaled.shape[1])]\n",
    "vif['feature'] = x.columns\n",
    "\n",
    "vif"
   ]
  },
  {
   "cell_type": "markdown",
   "id": "82675301",
   "metadata": {},
   "source": [
    "# Model Building"
   ]
  },
  {
   "cell_type": "code",
   "execution_count": 52,
   "id": "f3a50278",
   "metadata": {},
   "outputs": [
    {
     "data": {
      "text/html": [
       "<div>\n",
       "<style scoped>\n",
       "    .dataframe tbody tr th:only-of-type {\n",
       "        vertical-align: middle;\n",
       "    }\n",
       "\n",
       "    .dataframe tbody tr th {\n",
       "        vertical-align: top;\n",
       "    }\n",
       "\n",
       "    .dataframe thead th {\n",
       "        text-align: right;\n",
       "    }\n",
       "</style>\n",
       "<table border=\"1\" class=\"dataframe\">\n",
       "  <thead>\n",
       "    <tr style=\"text-align: right;\">\n",
       "      <th></th>\n",
       "      <th>Train</th>\n",
       "      <th>Test</th>\n",
       "    </tr>\n",
       "  </thead>\n",
       "  <tbody>\n",
       "    <tr>\n",
       "      <th>0</th>\n",
       "      <td>0.210737</td>\n",
       "      <td>0.187253</td>\n",
       "    </tr>\n",
       "    <tr>\n",
       "      <th>1</th>\n",
       "      <td>0.217523</td>\n",
       "      <td>0.121278</td>\n",
       "    </tr>\n",
       "    <tr>\n",
       "      <th>2</th>\n",
       "      <td>0.212052</td>\n",
       "      <td>0.159453</td>\n",
       "    </tr>\n",
       "    <tr>\n",
       "      <th>3</th>\n",
       "      <td>0.199078</td>\n",
       "      <td>0.226884</td>\n",
       "    </tr>\n",
       "    <tr>\n",
       "      <th>4</th>\n",
       "      <td>0.215579</td>\n",
       "      <td>0.167295</td>\n",
       "    </tr>\n",
       "    <tr>\n",
       "      <th>5</th>\n",
       "      <td>0.200450</td>\n",
       "      <td>0.224832</td>\n",
       "    </tr>\n",
       "    <tr>\n",
       "      <th>6</th>\n",
       "      <td>0.212039</td>\n",
       "      <td>0.175611</td>\n",
       "    </tr>\n",
       "    <tr>\n",
       "      <th>7</th>\n",
       "      <td>0.209088</td>\n",
       "      <td>0.172920</td>\n",
       "    </tr>\n",
       "    <tr>\n",
       "      <th>8</th>\n",
       "      <td>0.185253</td>\n",
       "      <td>0.260662</td>\n",
       "    </tr>\n",
       "    <tr>\n",
       "      <th>9</th>\n",
       "      <td>0.198792</td>\n",
       "      <td>0.218185</td>\n",
       "    </tr>\n",
       "    <tr>\n",
       "      <th>10</th>\n",
       "      <td>0.195526</td>\n",
       "      <td>0.233501</td>\n",
       "    </tr>\n",
       "    <tr>\n",
       "      <th>11</th>\n",
       "      <td>0.212438</td>\n",
       "      <td>0.168489</td>\n",
       "    </tr>\n",
       "    <tr>\n",
       "      <th>12</th>\n",
       "      <td>0.209345</td>\n",
       "      <td>0.192423</td>\n",
       "    </tr>\n",
       "    <tr>\n",
       "      <th>13</th>\n",
       "      <td>0.202210</td>\n",
       "      <td>0.220924</td>\n",
       "    </tr>\n",
       "    <tr>\n",
       "      <th>14</th>\n",
       "      <td>0.209489</td>\n",
       "      <td>0.188474</td>\n",
       "    </tr>\n",
       "    <tr>\n",
       "      <th>15</th>\n",
       "      <td>0.206626</td>\n",
       "      <td>0.201086</td>\n",
       "    </tr>\n",
       "    <tr>\n",
       "      <th>16</th>\n",
       "      <td>0.202540</td>\n",
       "      <td>0.204568</td>\n",
       "    </tr>\n",
       "    <tr>\n",
       "      <th>17</th>\n",
       "      <td>0.215222</td>\n",
       "      <td>0.150963</td>\n",
       "    </tr>\n",
       "    <tr>\n",
       "      <th>18</th>\n",
       "      <td>0.207847</td>\n",
       "      <td>0.197775</td>\n",
       "    </tr>\n",
       "    <tr>\n",
       "      <th>19</th>\n",
       "      <td>0.212267</td>\n",
       "      <td>0.174830</td>\n",
       "    </tr>\n",
       "  </tbody>\n",
       "</table>\n",
       "</div>"
      ],
      "text/plain": [
       "       Train      Test\n",
       "0   0.210737  0.187253\n",
       "1   0.217523  0.121278\n",
       "2   0.212052  0.159453\n",
       "3   0.199078  0.226884\n",
       "4   0.215579  0.167295\n",
       "5   0.200450  0.224832\n",
       "6   0.212039  0.175611\n",
       "7   0.209088  0.172920\n",
       "8   0.185253  0.260662\n",
       "9   0.198792  0.218185\n",
       "10  0.195526  0.233501\n",
       "11  0.212438  0.168489\n",
       "12  0.209345  0.192423\n",
       "13  0.202210  0.220924\n",
       "14  0.209489  0.188474\n",
       "15  0.206626  0.201086\n",
       "16  0.202540  0.204568\n",
       "17  0.215222  0.150963\n",
       "18  0.207847  0.197775\n",
       "19  0.212267  0.174830"
      ]
     },
     "execution_count": 52,
     "metadata": {},
     "output_type": "execute_result"
    }
   ],
   "source": [
    "from sklearn.linear_model import LinearRegression\n",
    "from sklearn.model_selection import train_test_split\n",
    "from sklearn.metrics import r2_score,mean_squared_error,mean_absolute_error\n",
    "\n",
    "\n",
    "lr = LinearRegression()\n",
    "\n",
    "train = []\n",
    "test = []\n",
    "    \n",
    "for i in range(0,20):\n",
    "    x_train,x_test,y_train,y_test = train_test_split(x,y,test_size=0.2,random_state=i)\n",
    "    lr.fit(x_train,y_train)\n",
    "    pred_train = lr.predict(x_train)\n",
    "    pred_test = lr.predict(x_test)\n",
    "        \n",
    "    train.append(r2_score(y_train,pred_train))\n",
    "    test.append(r2_score(y_test,pred_test))\n",
    "\n",
    "data = pd.DataFrame({'Train':train,\n",
    "                    'Test':test})\n",
    "data\n",
    "    \n"
   ]
  },
  {
   "cell_type": "code",
   "execution_count": 75,
   "id": "b8740cfb",
   "metadata": {},
   "outputs": [
    {
     "name": "stdout",
     "output_type": "stream",
     "text": [
      "R2_score: 18.84742081754094\n",
      "Mean_absolute_error: 1.516276163895302\n",
      "mean_squared_error 3.5878485262574618\n",
      "RMSE: 1.8941616948553948\n"
     ]
    }
   ],
   "source": [
    "#Linear Regression\n",
    "\n",
    "x_train,x_test,y_train,y_test = train_test_split(x,y,test_size=0.2,random_state=14)\n",
    "lr.fit(x_train,y_train)\n",
    "pred_test = lr.predict(x_test)\n",
    "print(\"R2_score:\",r2_score(y_test,pred_test)*100)\n",
    "print(\"Mean_absolute_error:\",mean_absolute_error(y_test,pred_test))\n",
    "print(\"mean_squared_error\",mean_squared_error(y_test,pred_test))\n",
    "print('RMSE:', np.sqrt(mean_squared_error(y_test, pred_test)))"
   ]
  },
  {
   "cell_type": "code",
   "execution_count": 54,
   "id": "56a4aa61",
   "metadata": {},
   "outputs": [
    {
     "name": "stdout",
     "output_type": "stream",
     "text": [
      "At cross fold 2 the cv_score is 0.20447135712622883 and accuracy score for training is -0.16384009650012543 and accuracy for the Test is 0.18847420817540939)\n",
      "/n\n",
      "At cross fold 3 the cv_score is 0.17833217332586815 and accuracy score for training is -0.16384009650012543 and accuracy for the Test is 0.18847420817540939)\n",
      "/n\n",
      "At cross fold 4 the cv_score is 0.19799988293601223 and accuracy score for training is -0.16384009650012543 and accuracy for the Test is 0.18847420817540939)\n",
      "/n\n",
      "At cross fold 5 the cv_score is 0.1853983682252735 and accuracy score for training is -0.16384009650012543 and accuracy for the Test is 0.18847420817540939)\n",
      "/n\n",
      "At cross fold 6 the cv_score is 0.17090224039529392 and accuracy score for training is -0.16384009650012543 and accuracy for the Test is 0.18847420817540939)\n",
      "/n\n",
      "At cross fold 7 the cv_score is 0.17452805158165782 and accuracy score for training is -0.16384009650012543 and accuracy for the Test is 0.18847420817540939)\n",
      "/n\n",
      "At cross fold 8 the cv_score is 0.1794602307314282 and accuracy score for training is -0.16384009650012543 and accuracy for the Test is 0.18847420817540939)\n",
      "/n\n",
      "At cross fold 9 the cv_score is 0.15577348596687984 and accuracy score for training is -0.16384009650012543 and accuracy for the Test is 0.18847420817540939)\n",
      "/n\n"
     ]
    }
   ],
   "source": [
    "#crossvalidation for LinearRegression\n",
    "train_accuracy = r2_score(y_train,pred_train)\n",
    "test_accuracy = r2_score(y_test,pred_test)\n",
    "\n",
    "from sklearn.model_selection import cross_val_score\n",
    "for j in range(2,10):\n",
    "    cv_score  = cross_val_score(lr,x,y,cv=j)\n",
    "    cv_mean = cv_score.mean()\n",
    "    print(f\"At cross fold {j} the cv_score is {cv_mean} and accuracy score for training is {train_accuracy} and accuracy for the Test is {test_accuracy})\")\n",
    "    print(\"/n\")\n",
    "    "
   ]
  },
  {
   "cell_type": "markdown",
   "id": "dbb6e6db",
   "metadata": {},
   "source": [
    "#### R2score and crossvalidation score are 18.84742081754094 and 0.18847420817540939 mean same.But the problem is insufficient data present in dataset.that why we are getting low score.\n"
   ]
  },
  {
   "cell_type": "markdown",
   "id": "45298b5a",
   "metadata": {},
   "source": [
    "### Regularization "
   ]
  },
  {
   "cell_type": "code",
   "execution_count": 55,
   "id": "e5ba6bda",
   "metadata": {},
   "outputs": [
    {
     "name": "stdout",
     "output_type": "stream",
     "text": [
      "{'alpha': 10, 'random_state': 0}\n"
     ]
    }
   ],
   "source": [
    "#lasso\n",
    "from sklearn.model_selection import GridSearchCV,RandomizedSearchCV,cross_val_score\n",
    "\n",
    "parameters = {'alpha':[.0001,.001,.01,.1,1,10],\n",
    "             'random_state':list(range(0,10))}\n",
    "ls= Lasso()\n",
    "clf = GridSearchCV(ls,parameters)\n",
    "clf.fit(x_train,y_train)\n",
    "print(clf.best_params_)"
   ]
  },
  {
   "cell_type": "code",
   "execution_count": 71,
   "id": "ca8fe02f",
   "metadata": {},
   "outputs": [
    {
     "name": "stdout",
     "output_type": "stream",
     "text": [
      "r2_score 0.1888978437143486\n",
      "\n",
      "\n",
      "Mean_absolute_error: 1.516276163895302\n",
      "mean_squared_error 3.5878485262574618\n",
      "RMSE: 1.8941616948553948\n"
     ]
    }
   ],
   "source": [
    "\n",
    "ls = Lasso(alpha=1,random_state= 0)\n",
    "ls.fit(x_train,y_train)\n",
    "ls.score(x_train,y_train)\n",
    "predict_ls = ls.predict(x_test)\n",
    "\n",
    "ls = r2_score(y_test,predict_ls)\n",
    "print(\"r2_score\",ls)\n",
    "print(\"\\n\")\n",
    "print(\"Mean_absolute_error:\",mean_absolute_error(y_test,pred_test))\n",
    "print(\"mean_squared_error\",mean_squared_error(y_test,pred_test))\n",
    "print('RMSE:', np.sqrt(mean_squared_error(y_test, pred_test)))"
   ]
  },
  {
   "cell_type": "markdown",
   "id": "79008afc",
   "metadata": {},
   "source": [
    "### Ensemble Technique"
   ]
  },
  {
   "cell_type": "code",
   "execution_count": 65,
   "id": "ca2f25d3",
   "metadata": {},
   "outputs": [
    {
     "name": "stdout",
     "output_type": "stream",
     "text": [
      "{'criterion': 'mse', 'max_features': 'log2'}\n"
     ]
    }
   ],
   "source": [
    "#RandomForestRegressor\n",
    "parameters = {'criterion':['mse','mac'],\n",
    "             'max_features':['auto','sqrt','log2']}\n",
    "rf = RandomForestRegressor()\n",
    "clf = GridSearchCV(rf,parameters)\n",
    "clf.fit(x_train,y_train)\n",
    "\n",
    "print(clf.best_params_)"
   ]
  },
  {
   "cell_type": "code",
   "execution_count": 70,
   "id": "deafc004",
   "metadata": {},
   "outputs": [
    {
     "name": "stdout",
     "output_type": "stream",
     "text": [
      "R2score 40.35799796646421\n",
      "\n",
      "\n",
      "Mean_absolute_error: 1.0819472758576343\n",
      "mean_squared_error 2.6368412594496884\n",
      "RMSE: 1.6238353547849882\n"
     ]
    }
   ],
   "source": [
    "rf = RandomForestRegressor(criterion = 'mse',max_features='auto')\n",
    "rf.fit(x_train,y_train)\n",
    "rf.score(x_train,y_train)\n",
    "pred_r = rf.predict(x_test)\n",
    "\n",
    "rfs = r2_score(y_test,pred_r)\n",
    "print('R2score',rfs*100)\n",
    "print('\\n')\n",
    "print(\"Mean_absolute_error:\",mean_absolute_error(y_test,pred_r))\n",
    "print(\"mean_squared_error\",mean_squared_error(y_test,pred_r))\n",
    "print('RMSE:', np.sqrt(mean_squared_error(y_test, pred_r)))"
   ]
  },
  {
   "cell_type": "code",
   "execution_count": 69,
   "id": "74efc715",
   "metadata": {},
   "outputs": [
    {
     "name": "stdout",
     "output_type": "stream",
     "text": [
      "R2score 27.230384945592622\n",
      "\n",
      "\n",
      "MAE: 1.0928141303141303\n",
      "MSE: 3.2172280753057265\n",
      "RMSE: 1.7936633115793295\n"
     ]
    }
   ],
   "source": [
    "#Decision Tree\n",
    "from sklearn.tree import DecisionTreeRegressor\n",
    "\n",
    "dt = DecisionTreeRegressor()\n",
    "dt.fit(x_train,y_train)\n",
    "pred_test_dec = dt.predict(x_test)\n",
    "\n",
    "dt = r2_score(y_test,pred_test_dec)\n",
    "print('R2score',dt*100)\n",
    "\n",
    "print('\\n')\n",
    "print('MAE:', mean_absolute_error(y_test, pred_test_dec))\n",
    "print('MSE:', mean_squared_error(y_test, pred_test_dec))\n",
    "print('RMSE:', np.sqrt(mean_squared_error(y_test, pred_test_dec)))"
   ]
  },
  {
   "cell_type": "markdown",
   "id": "57d4643c",
   "metadata": {},
   "source": [
    "### From medel buliding we observed that. For the \n",
    "### Linear Regression\n",
    "#####                                 R2_score: 18.84742081754094\n",
    "#####                                 Mean_absolute_error: 1.516276163895302\n",
    "#####                                 Mean_squared_error 3.5878485262574618\n",
    "#####                                 RMSE: 1.8941616948553948\n",
    "### RandomForestRegressor\n",
    "#####                                 R2score 40.35799796646421\n",
    "#####                                 Mean_absolute_error: 1.0819472758576343\n",
    "#####                                 Mean_squared_error 2.6368412594496884\n",
    "#####                                 RMSE: 1.6238353547849882 \n",
    "### Decision Tree\n",
    "#####                            R2score 27.230384945592622\n",
    "#####                           Mean_absolute_error: 1.0928141303141303\n",
    "#####                          Mean_squared_error : 3.2172280753057265\n",
    "#####                          RMSE: 1.7936633115793295"
   ]
  },
  {
   "cell_type": "code",
   "execution_count": 72,
   "id": "0ace141d",
   "metadata": {},
   "outputs": [
    {
     "data": {
      "text/plain": [
       "Text(0, 0.5, 'Predicted Y')"
      ]
     },
     "execution_count": 72,
     "metadata": {},
     "output_type": "execute_result"
    },
    {
     "data": {
      "image/png": "[encoded data removed]",
      "text/plain": [
       "<Figure size 432x288 with 1 Axes>"
      ]
     },
     "metadata": {
      "needs_background": "light"
     },
     "output_type": "display_data"
    }
   ],
   "source": [
    "#plotting the resultant \n",
    "plt.scatter(x=y_test,y=pred_r)\n",
    "plt.xlabel('Y Test')\n",
    "plt.ylabel('Predicted Y')"
   ]
  },
  {
   "cell_type": "code",
   "execution_count": 74,
   "id": "864f4597",
   "metadata": {},
   "outputs": [
    {
     "data": {
      "text/plain": [
       "['globalpower.pkl']"
      ]
     },
     "execution_count": 74,
     "metadata": {},
     "output_type": "execute_result"
    }
   ],
   "source": [
    "import joblib\n",
    "joblib.dump(rf,\"globalpower.pkl\")"
   ]
  },
  {
   "cell_type": "markdown",
   "id": "8cb6ded1",
   "metadata": {},
   "source": [
    "#### Our dataset is insufficient data,that why it giving us low scores. "
   ]
  }
 ],
 "metadata": {
  "kernelspec": {
   "display_name": "Python 3",
   "language": "python",
   "name": "python3"
  },
  "language_info": {
   "codemirror_mode": {
    "name": "ipython",
    "version": 3
   },
   "file_extension": ".py",
   "mimetype": "text/x-python",
   "name": "python",
   "nbconvert_exporter": "python",
   "pygments_lexer": "ipython3",
   "version": "3.8.8"
  }
 },
 "nbformat": 4,
 "nbformat_minor": 5
}
