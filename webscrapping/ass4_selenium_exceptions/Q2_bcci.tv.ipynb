{
 "cells": [
  {
   "cell_type": "markdown",
   "id": "3c6cbe3f",
   "metadata": {},
   "source": [
    "# Scrape the details team India’s international fixtures from bcci.tv.\n",
    "##### Url = https://www.bcci.tv/.\n",
    "##### You need to find following details:\n",
    "##### A) Match title (I.e. 1st ODI)\n",
    "##### B) Series\n",
    "##### C) Place\n",
    "##### D) Date\n",
    "##### E) Time\n",
    "##### Note: - From bcci.tv home page you have reach to the international fixture page through code"
   ]
  },
  {
   "cell_type": "code",
   "execution_count": 1,
   "id": "d1d41f34",
   "metadata": {},
   "outputs": [],
   "source": [
    "import selenium\n",
    "from selenium import webdriver\n",
    "from time import sleep\n",
    "import time\n",
    "import pandas as pd\n",
    "\n",
    "import requests # importing Request\n",
    "import re  #importing Regex\n",
    "import time\n",
    "from selenium.webdriver.support.ui import Select\n",
    "\n",
    "from selenium.webdriver.support import expected_conditions as EC\n",
    "from selenium.common.exceptions import NoSuchElementException,StaleElementReferenceException\n",
    "\n",
    "import warnings\n",
    "warnings.filterwarnings('ignore')"
   ]
  },
  {
   "cell_type": "code",
   "execution_count": 2,
   "id": "8b19a4af",
   "metadata": {},
   "outputs": [],
   "source": [
    "driver = webdriver.Chrome(r'C:\\Users\\harsh\\Desktop\\chromedriver.exe')\n",
    "driver.maximize_window()"
   ]
  },
  {
   "cell_type": "code",
   "execution_count": 3,
   "id": "916dc899",
   "metadata": {},
   "outputs": [],
   "source": [
    "driver.get('https://www.bcci.tv/')"
   ]
  },
  {
   "cell_type": "code",
   "execution_count": 4,
   "id": "6d7a7004",
   "metadata": {},
   "outputs": [],
   "source": [
    "search= driver.find_element_by_xpath('//*[@id=\"navigation\"]/ul/li[2]/a')\n",
    "search.click()"
   ]
  },
  {
   "cell_type": "code",
   "execution_count": 6,
   "id": "4c0de57a",
   "metadata": {},
   "outputs": [],
   "source": [
    "select = driver.find_element_by_xpath('//*[@id=\"fixtures\"]/div[2]/div/div[4]/div/div[1]')\n",
    "select.click()\n",
    "sleep(2)\n",
    "select_i = driver.find_element_by_xpath('//*[@id=\"fixtures\"]/div[2]/div/div[4]/div/div[2]/div[6]')\n",
    "select_i.click()"
   ]
  },
  {
   "cell_type": "code",
   "execution_count": 7,
   "id": "3546609f",
   "metadata": {},
   "outputs": [
    {
     "data": {
      "text/plain": [
       "['India vs South Africa',\n",
       " 'India vs South Africa',\n",
       " 'India vs South Africa',\n",
       " 'India vs South Africa',\n",
       " 'India vs South Africa']"
      ]
     },
     "execution_count": 7,
     "metadata": {},
     "output_type": "execute_result"
    }
   ],
   "source": [
    "# Match_title,series,Place,Data,Time\n",
    "match =[]\n",
    "title = []\n",
    "series =[]\n",
    "place = []\n",
    "date = []\n",
    "time = []\n",
    "\n",
    "try:\n",
    "    m =driver.find_elements_by_xpath('//div[@class=\"fixture-card-mid d-flex align-items-center justify-content-between\"]')\n",
    "    for i in m:\n",
    "          match.append(i.text.replace('\\n',' '))\n",
    "\n",
    "except NoSuchElementException:\n",
    "          match.append('No details available')\n",
    "\n",
    "except StaleElementReferenceException:#handling Stale element exception\n",
    "        match.append('No details available')\n",
    "        \n",
    "match\n"
   ]
  },
  {
   "cell_type": "code",
   "execution_count": 8,
   "id": "03a911ab",
   "metadata": {},
   "outputs": [
    {
     "data": {
      "text/plain": [
       "['SOUTH AFRICA TOUR OF INDIA T20 SERIES 2022',\n",
       " 'SOUTH AFRICA TOUR OF INDIA T20 SERIES 2022',\n",
       " 'SOUTH AFRICA TOUR OF INDIA T20 SERIES 2022',\n",
       " 'SOUTH AFRICA TOUR OF INDIA T20 SERIES 2022',\n",
       " 'SOUTH AFRICA TOUR OF INDIA T20 SERIES 2022']"
      ]
     },
     "execution_count": 8,
     "metadata": {},
     "output_type": "execute_result"
    }
   ],
   "source": [
    "#title\n",
    "try: \n",
    "    tl =driver.find_elements_by_xpath('//span[@class=\"ng-binding\"]')\n",
    "    for i in tl:\n",
    "        title.append(i.text)\n",
    "        \n",
    "except NoSuchElementException:\n",
    "     title.append('No details available')\n",
    "\n",
    "except StaleElementReferenceException:#handling Stale element exception\n",
    "    title.append('No details available')\n",
    "        \n",
    "title\n",
    "    "
   ]
  },
  {
   "cell_type": "code",
   "execution_count": 9,
   "id": "932b5ed0",
   "metadata": {},
   "outputs": [
    {
     "data": {
      "text/plain": [
       "['1st T20I', '2nd T20I', '3rd T20I', '4th T20I', '5th T20I']"
      ]
     },
     "execution_count": 9,
     "metadata": {},
     "output_type": "execute_result"
    }
   ],
   "source": [
    "#series\n",
    "try :\n",
    "    s = driver.find_elements_by_xpath('//span[@class=\"matchOrderText ng-binding ng-scope\"]')\n",
    "    for i in s:\n",
    "        series.append(i.text.replace(' -',''))\n",
    "\n",
    "except NoSuchElementException:\n",
    "     series.append('No details available')\n",
    "\n",
    "except StaleElementReferenceException:#handling Stale element exception\n",
    "    series.append('No details available')\n",
    "\n",
    "series\n",
    "    "
   ]
  },
  {
   "cell_type": "code",
   "execution_count": 10,
   "id": "ccc41aba",
   "metadata": {},
   "outputs": [
    {
     "data": {
      "text/plain": [
       "['MA Chidambaram Stadium,',\n",
       " 'M Chinnaswamy Stadium,',\n",
       " 'Vidarbha Cricket Association Stadium,',\n",
       " 'Saurashtra Cricket Association Stadium,',\n",
       " 'Arun Jaitley Stadium,']"
      ]
     },
     "execution_count": 10,
     "metadata": {},
     "output_type": "execute_result"
    }
   ],
   "source": [
    "#place\n",
    "try:\n",
    "    p =  driver.find_elements_by_xpath('//div[@class=\"fix-place ng-binding ng-scope\"]/span[2]')\n",
    "    for i in p:\n",
    "        place.append(i.text)\n",
    "\n",
    "except NoSuchElementException:\n",
    "     place.append('No details available')\n",
    "\n",
    "except StaleElementReferenceException:#handling Stale element exception\n",
    "    place.append('No details available')\n",
    "\n",
    "place\n",
    "   "
   ]
  },
  {
   "cell_type": "code",
   "execution_count": 11,
   "id": "dd7e38a3",
   "metadata": {},
   "outputs": [
    {
     "data": {
      "text/plain": [
       "['9 JUN 2022', '12 JUN 2022', '14 JUN 2022', '17 JUN 2022', '19 JUN 2022']"
      ]
     },
     "execution_count": 11,
     "metadata": {},
     "output_type": "execute_result"
    }
   ],
   "source": [
    "#date\n",
    "try:\n",
    "    d =  driver.find_elements_by_xpath('//h5[@class=\"ng-binding\"]')\n",
    "    for i in d:\n",
    "        date.append(i.text)\n",
    "\n",
    "except NoSuchElementException:\n",
    "     date.append('No details available')\n",
    "\n",
    "except StaleElementReferenceException:#handling Stale element exception\n",
    "    date.append('No details available')\n",
    "\n",
    "date"
   ]
  },
  {
   "cell_type": "code",
   "execution_count": 12,
   "id": "56f36486",
   "metadata": {},
   "outputs": [
    {
     "data": {
      "text/plain": [
       "['7:30 PM IST', '7:30 PM IST', '7:30 PM IST', '7:30 PM IST', '7:30 PM IST']"
      ]
     },
     "execution_count": 12,
     "metadata": {},
     "output_type": "execute_result"
    }
   ],
   "source": [
    "#time\n",
    "try:\n",
    "    t =  driver.find_elements_by_xpath('//h5[@class=\"text-right ng-binding\"]')\n",
    "    for i in t:\n",
    "        time.append(i.text)\n",
    "\n",
    "except NoSuchElementException:\n",
    "     time.append('No details available')\n",
    "\n",
    "except StaleElementReferenceException:#handling Stale element exception\n",
    "    time.append('No details available')\n",
    "\n",
    "time"
   ]
  },
  {
   "cell_type": "code",
   "execution_count": 15,
   "id": "180ca043",
   "metadata": {},
   "outputs": [
    {
     "data": {
      "text/html": [
       "<div>\n",
       "<style scoped>\n",
       "    .dataframe tbody tr th:only-of-type {\n",
       "        vertical-align: middle;\n",
       "    }\n",
       "\n",
       "    .dataframe tbody tr th {\n",
       "        vertical-align: top;\n",
       "    }\n",
       "\n",
       "    .dataframe thead th {\n",
       "        text-align: right;\n",
       "    }\n",
       "</style>\n",
       "<table border=\"1\" class=\"dataframe\">\n",
       "  <thead>\n",
       "    <tr style=\"text-align: right;\">\n",
       "      <th></th>\n",
       "      <th>Match</th>\n",
       "      <th>Series</th>\n",
       "      <th>Title</th>\n",
       "      <th>Date</th>\n",
       "      <th>Time</th>\n",
       "      <th>Place</th>\n",
       "    </tr>\n",
       "  </thead>\n",
       "  <tbody>\n",
       "    <tr>\n",
       "      <th>0</th>\n",
       "      <td>India vs South Africa</td>\n",
       "      <td>1st T20I</td>\n",
       "      <td>SOUTH AFRICA TOUR OF INDIA T20 SERIES 2022</td>\n",
       "      <td>9 JUN 2022</td>\n",
       "      <td>7:30 PM IST</td>\n",
       "      <td>MA Chidambaram Stadium,</td>\n",
       "    </tr>\n",
       "    <tr>\n",
       "      <th>1</th>\n",
       "      <td>India vs South Africa</td>\n",
       "      <td>2nd T20I</td>\n",
       "      <td>SOUTH AFRICA TOUR OF INDIA T20 SERIES 2022</td>\n",
       "      <td>12 JUN 2022</td>\n",
       "      <td>7:30 PM IST</td>\n",
       "      <td>M Chinnaswamy Stadium,</td>\n",
       "    </tr>\n",
       "    <tr>\n",
       "      <th>2</th>\n",
       "      <td>India vs South Africa</td>\n",
       "      <td>3rd T20I</td>\n",
       "      <td>SOUTH AFRICA TOUR OF INDIA T20 SERIES 2022</td>\n",
       "      <td>14 JUN 2022</td>\n",
       "      <td>7:30 PM IST</td>\n",
       "      <td>Vidarbha Cricket Association Stadium,</td>\n",
       "    </tr>\n",
       "    <tr>\n",
       "      <th>3</th>\n",
       "      <td>India vs South Africa</td>\n",
       "      <td>4th T20I</td>\n",
       "      <td>SOUTH AFRICA TOUR OF INDIA T20 SERIES 2022</td>\n",
       "      <td>17 JUN 2022</td>\n",
       "      <td>7:30 PM IST</td>\n",
       "      <td>Saurashtra Cricket Association Stadium,</td>\n",
       "    </tr>\n",
       "    <tr>\n",
       "      <th>4</th>\n",
       "      <td>India vs South Africa</td>\n",
       "      <td>5th T20I</td>\n",
       "      <td>SOUTH AFRICA TOUR OF INDIA T20 SERIES 2022</td>\n",
       "      <td>19 JUN 2022</td>\n",
       "      <td>7:30 PM IST</td>\n",
       "      <td>Arun Jaitley Stadium,</td>\n",
       "    </tr>\n",
       "  </tbody>\n",
       "</table>\n",
       "</div>"
      ],
      "text/plain": [
       "                   Match    Series  \\\n",
       "0  India vs South Africa  1st T20I   \n",
       "1  India vs South Africa  2nd T20I   \n",
       "2  India vs South Africa  3rd T20I   \n",
       "3  India vs South Africa  4th T20I   \n",
       "4  India vs South Africa  5th T20I   \n",
       "\n",
       "                                        Title         Date         Time  \\\n",
       "0  SOUTH AFRICA TOUR OF INDIA T20 SERIES 2022   9 JUN 2022  7:30 PM IST   \n",
       "1  SOUTH AFRICA TOUR OF INDIA T20 SERIES 2022  12 JUN 2022  7:30 PM IST   \n",
       "2  SOUTH AFRICA TOUR OF INDIA T20 SERIES 2022  14 JUN 2022  7:30 PM IST   \n",
       "3  SOUTH AFRICA TOUR OF INDIA T20 SERIES 2022  17 JUN 2022  7:30 PM IST   \n",
       "4  SOUTH AFRICA TOUR OF INDIA T20 SERIES 2022  19 JUN 2022  7:30 PM IST   \n",
       "\n",
       "                                     Place  \n",
       "0                  MA Chidambaram Stadium,  \n",
       "1                   M Chinnaswamy Stadium,  \n",
       "2    Vidarbha Cricket Association Stadium,  \n",
       "3  Saurashtra Cricket Association Stadium,  \n",
       "4                    Arun Jaitley Stadium,  "
      ]
     },
     "execution_count": 15,
     "metadata": {},
     "output_type": "execute_result"
    }
   ],
   "source": [
    "bcci = pd.DataFrame({'Match':match,'Series':series,'Title':title,'Date':date,'Time':time,'Place':place})\n",
    "bcci"
   ]
  },
  {
   "cell_type": "code",
   "execution_count": 16,
   "id": "fdb54a2a",
   "metadata": {},
   "outputs": [],
   "source": [
    "driver.quit()"
   ]
  },
  {
   "cell_type": "code",
   "execution_count": null,
   "id": "3df470e9",
   "metadata": {},
   "outputs": [],
   "source": []
  }
 ],
 "metadata": {
  "kernelspec": {
   "display_name": "Python 3",
   "language": "python",
   "name": "python3"
  },
  "language_info": {
   "codemirror_mode": {
    "name": "ipython",
    "version": 3
   },
   "file_extension": ".py",
   "mimetype": "text/x-python",
   "name": "python",
   "nbconvert_exporter": "python",
   "pygments_lexer": "ipython3",
   "version": "3.8.8"
  }
 },
 "nbformat": 4,
 "nbformat_minor": 5
}
