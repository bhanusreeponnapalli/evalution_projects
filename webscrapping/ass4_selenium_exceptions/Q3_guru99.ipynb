{
 "cells": [
  {
   "cell_type": "markdown",
   "id": "24ec4c2e",
   "metadata": {},
   "source": [
    "# 3.Scrape the details of selenium exception from guru99.com.\n",
    "##### Url = https://www.guru99.com/\n",
    "##### You need to find following details:\n",
    "##### A) Name\n",
    "##### B) Description\n",
    "##### Note: - From guru99 home page you have to reach to selenium exception handling page through code."
   ]
  },
  {
   "cell_type": "code",
   "execution_count": 1,
   "id": "889130a1",
   "metadata": {},
   "outputs": [],
   "source": [
    "import selenium\n",
    "from selenium import webdriver\n",
    "from time import sleep\n",
    "import time\n",
    "import pandas as pd\n",
    "\n",
    "import requests # importing Request\n",
    "import re  #importing Regex\n",
    "import time\n",
    "\n",
    "from selenium.webdriver.support import expected_conditions as EC\n",
    "from selenium.common.exceptions import NoSuchElementException,StaleElementReferenceException\n",
    "\n",
    "import warnings\n",
    "warnings.filterwarnings('ignore')"
   ]
  },
  {
   "cell_type": "code",
   "execution_count": 2,
   "id": "47f0aa13",
   "metadata": {},
   "outputs": [],
   "source": [
    "driver = webdriver.Chrome(r'C:\\Users\\harsh\\Desktop\\chromedriver.exe')\n",
    "driver.maximize_window()"
   ]
  },
  {
   "cell_type": "code",
   "execution_count": 3,
   "id": "f0cbd709",
   "metadata": {},
   "outputs": [],
   "source": [
    "driver.get('https://www.guru99.com/')\n",
    "sleep(5)"
   ]
  },
  {
   "cell_type": "code",
   "execution_count": 6,
   "id": "8b57584e",
   "metadata": {},
   "outputs": [],
   "source": [
    "search =driver.find_element_by_xpath('//input[@class=\"gsc-input\"]')\n",
    "search.send_keys('selenium exception handling')\n",
    "sleep(5)"
   ]
  },
  {
   "cell_type": "code",
   "execution_count": 7,
   "id": "d4d9194c",
   "metadata": {},
   "outputs": [],
   "source": [
    "search_button = driver.find_element_by_xpath('//button[@class=\"gsc-search-button gsc-search-button-v2\"]')\n",
    "search_button.click()"
   ]
  },
  {
   "cell_type": "code",
   "execution_count": null,
   "id": "b2c97642",
   "metadata": {},
   "outputs": [],
   "source": [
    "select = driver.find_element_by_xpath('//div[@class=\"gs-title\"]/a[1]')\n",
    "select.click()"
   ]
  },
  {
   "cell_type": "code",
   "execution_count": null,
   "id": "e6c722b7",
   "metadata": {},
   "outputs": [],
   "source": [
    "#name\n",
    "e_name =[]\n",
    "try:\n",
    "    n = driver.find_elements_by_xpath('//div[@class=\"entry-content-wrap\"]/div/table/tbody/tr/td')\n",
    "    print(n)\n",
    "    for i in n:\n",
    "        e_name.append(i.text)\n",
    "except NoSuchElementException:\n",
    "    e_name.append(\"NoSuchElementException Raised: No such element found\")\n",
    "    \n",
    "except StaleElementReferenceException:#handling Stale element exception\n",
    "    e_name.append('No details available')\n",
    "\n",
    "e_name    "
   ]
  },
  {
   "cell_type": "code",
   "execution_count": null,
   "id": "ee54f6cb",
   "metadata": {},
   "outputs": [],
   "source": []
  },
  {
   "cell_type": "code",
   "execution_count": null,
   "id": "164e27e2",
   "metadata": {},
   "outputs": [],
   "source": []
  },
  {
   "cell_type": "code",
   "execution_count": null,
   "id": "02cd1507",
   "metadata": {},
   "outputs": [],
   "source": []
  }
 ],
 "metadata": {
  "kernelspec": {
   "display_name": "Python 3",
   "language": "python",
   "name": "python3"
  },
  "language_info": {
   "codemirror_mode": {
    "name": "ipython",
    "version": 3
   },
   "file_extension": ".py",
   "mimetype": "text/x-python",
   "name": "python",
   "nbconvert_exporter": "python",
   "pygments_lexer": "ipython3",
   "version": "3.8.8"
  }
 },
 "nbformat": 4,
 "nbformat_minor": 5
}
