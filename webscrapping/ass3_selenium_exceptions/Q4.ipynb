{
 "cells": [
  {
   "cell_type": "markdown",
   "id": "4d2fe020",
   "metadata": {},
   "source": [
    "### 4. Write a python program to search for a smartphone(e.g.: Oneplus Nord, pixel 4A, etc.) on www.flipkart.com and scrape following details for all the search results displayed on 1st page. Details to be scraped: “Brand Name”, “Smartphone name”, “Colour”, “RAM”, “Storage(ROM)”, “Primary Camera”, “Secondary Camera”, “Display Size”, “Battery Capacity”, “Price”, “Product URL”. Incase if any of the details is missing then replace it by “- “. Save your results in a dataframe and CSV"
   ]
  },
  {
   "cell_type": "code",
   "execution_count": 1,
   "id": "f28e2402",
   "metadata": {},
   "outputs": [],
   "source": [
    "import selenium\n",
    "from selenium import webdriver\n",
    "from time import sleep\n",
    "import time\n",
    "import pandas as pd\n",
    "\n",
    "from selenium.webdriver.support import expected_conditions as EC\n",
    "from selenium.common.exceptions import NoSuchElementException\n",
    "\n",
    "import requests # importing Request\n",
    "import re  #importing Regex\n",
    "import time\n",
    "\n",
    "import warnings\n",
    "warnings.filterwarnings('ignore')"
   ]
  },
  {
   "cell_type": "code",
   "execution_count": 2,
   "id": "427ee835",
   "metadata": {},
   "outputs": [],
   "source": [
    "driver = webdriver.Chrome(r'C:\\Users\\harsh\\Desktop\\chromedriver.exe')\n",
    "driver.maximize_window()"
   ]
  },
  {
   "cell_type": "code",
   "execution_count": 3,
   "id": "d2ea151d",
   "metadata": {},
   "outputs": [],
   "source": [
    "driver.get('https://www.flipkart.com/')"
   ]
  },
  {
   "cell_type": "code",
   "execution_count": 4,
   "id": "e971739b",
   "metadata": {},
   "outputs": [],
   "source": [
    "pop = driver.find_element_by_xpath('//button[@class=\"_2KpZ6l _2doB4z\"]')\n",
    "pop.click()"
   ]
  },
  {
   "cell_type": "code",
   "execution_count": 5,
   "id": "a3fadd37",
   "metadata": {},
   "outputs": [],
   "source": [
    "search = driver.find_element_by_xpath('//input[@class=\"_3704LK\"]')\n",
    "search.send_keys('Oneplus Nord,pixel 4A')\n",
    "search_button = driver.find_element_by_xpath('//button[@class=\"L0Z3Pu\"]')\n",
    "search_button.click()\n",
    "time.sleep(2)"
   ]
  },
  {
   "cell_type": "code",
   "execution_count": 6,
   "id": "771085d6",
   "metadata": {},
   "outputs": [
    {
     "data": {
      "text/plain": [
       "['https://www.flipkart.com/lava-pixel-v2-plus-black-16-gb/p/itmf2jgahv25gutu?pid=MOBF2GDCJGHHXN6M&lid=LSTMOBF2GDCJGHHXN6M5BOQRA&marketplace=FLIPKART&q=Oneplus+Nord%2Cpixel+4A&store=tyy%2F4io&srno=s_1_1&otracker=search&otracker1=search&fm=Search&iid=69c9b2c7-a659-4174-a6c8-f43de6e1a8fc.MOBF2GDCJGHHXN6M.SEARCH&ppt=hp&ppn=homepage&ssid=99udjqt60g0000001647544701435&qH=bba4b7710b368fc9',\n",
       " 'https://www.flipkart.com/samsung-galaxy-s10-plus-ceramic-white-1-tb/p/itmfdyp6yc3fu2fg?pid=MOBFDNMZC29CBUPF&lid=LSTMOBFDNMZC29CBUPFT0HVQQ&marketplace=FLIPKART&q=Oneplus+Nord%2Cpixel+4A&store=tyy%2F4io&srno=s_1_2&otracker=search&otracker1=search&fm=Search&iid=69c9b2c7-a659-4174-a6c8-f43de6e1a8fc.MOBFDNMZC29CBUPF.SEARCH&ppt=hp&ppn=homepage&ssid=99udjqt60g0000001647544701435&qH=bba4b7710b368fc9',\n",
       " 'https://www.flipkart.com/ringme-reno-plus-blue-16-gb/p/itma7cbd75a240dd?pid=MOBFYYUYKCGBZVDH&lid=LSTMOBFYYUYKCGBZVDHATS1NE&marketplace=FLIPKART&q=Oneplus+Nord%2Cpixel+4A&store=tyy%2F4io&srno=s_1_3&otracker=search&otracker1=search&fm=Search&iid=69c9b2c7-a659-4174-a6c8-f43de6e1a8fc.MOBFYYUYKCGBZVDH.SEARCH&ppt=hp&ppn=homepage&ssid=99udjqt60g0000001647544701435&qH=bba4b7710b368fc9',\n",
       " 'https://www.flipkart.com/ringme-reno-plus-red-16-gb/p/itma7cbd75a240dd?pid=MOBFXZX3QEKWMBXB&lid=LSTMOBFXZX3QEKWMBXBECQGSJ&marketplace=FLIPKART&q=Oneplus+Nord%2Cpixel+4A&store=tyy%2F4io&srno=s_1_4&otracker=search&otracker1=search&fm=Search&iid=69c9b2c7-a659-4174-a6c8-f43de6e1a8fc.MOBFXZX3QEKWMBXB.SEARCH&ppt=hp&ppn=homepage&ssid=99udjqt60g0000001647544701435&qH=bba4b7710b368fc9',\n",
       " 'https://www.flipkart.com/karbonn-titanium-s9-plus-blue-32-gb/p/itmecad7098b9d03?pid=MOBG45WTKHHMPYYE&lid=LSTMOBG45WTKHHMPYYEE8RFPN&marketplace=FLIPKART&q=Oneplus+Nord%2Cpixel+4A&store=tyy%2F4io&srno=s_1_5&otracker=search&otracker1=search&fm=Search&iid=69c9b2c7-a659-4174-a6c8-f43de6e1a8fc.MOBG45WTKHHMPYYE.SEARCH&ppt=hp&ppn=homepage&ssid=99udjqt60g0000001647544701435&qH=bba4b7710b368fc9',\n",
       " 'https://www.flipkart.com/samsung-galaxy-note-10-plus-aura-white-256-gb/p/itm50d78ee0a184a?pid=MOBFJFWV34VTRDGQ&lid=LSTMOBFJFWV34VTRDGQKO26FF&marketplace=FLIPKART&q=Oneplus+Nord%2Cpixel+4A&store=tyy%2F4io&srno=s_1_6&otracker=search&otracker1=search&fm=Search&iid=69c9b2c7-a659-4174-a6c8-f43de6e1a8fc.MOBFJFWV34VTRDGQ.SEARCH&ppt=hp&ppn=homepage&ssid=99udjqt60g0000001647544701435&qH=bba4b7710b368fc9',\n",
       " 'https://www.flipkart.com/kall-k38-plus/p/itmdd2fd42bc5999?pid=MOBFZ9RTPFVGSVAY&lid=LSTMOBFZ9RTPFVGSVAYWOQJZQ&marketplace=FLIPKART&q=Oneplus+Nord%2Cpixel+4A&store=tyy%2F4io&srno=s_1_7&otracker=search&otracker1=search&fm=Search&iid=69c9b2c7-a659-4174-a6c8-f43de6e1a8fc.MOBFZ9RTPFVGSVAY.SEARCH&ppt=hp&ppn=homepage&ssid=99udjqt60g0000001647544701435&qH=bba4b7710b368fc9',\n",
       " 'https://www.flipkart.com/phicomm-clue-3-plus-volte-gold-16-gb/p/itm37bb8bb63723b?pid=MOBFQX4BYRTZVTHF&lid=LSTMOBFQX4BYRTZVTHFSWMM41&marketplace=FLIPKART&q=Oneplus+Nord%2Cpixel+4A&store=tyy%2F4io&srno=s_1_8&otracker=search&otracker1=search&fm=Search&iid=69c9b2c7-a659-4174-a6c8-f43de6e1a8fc.MOBFQX4BYRTZVTHF.SEARCH&ppt=hp&ppn=homepage&ssid=99udjqt60g0000001647544701435&qH=bba4b7710b368fc9',\n",
       " 'https://www.flipkart.com/micromax-bharat-4-plus-black-16-gb/p/itm489b353906344?pid=MOBFUFPMTHWBCTVW&lid=LSTMOBFUFPMTHWBCTVWPJV5XA&marketplace=FLIPKART&q=Oneplus+Nord%2Cpixel+4A&store=tyy%2F4io&srno=s_1_9&otracker=search&otracker1=search&fm=Search&iid=69c9b2c7-a659-4174-a6c8-f43de6e1a8fc.MOBFUFPMTHWBCTVW.SEARCH&ppt=hp&ppn=homepage&ssid=99udjqt60g0000001647544701435&qH=bba4b7710b368fc9',\n",
       " 'https://www.flipkart.com/ringme-r1-plus/p/itm2a27283b830d4?pid=MOBG7RYHM5DBWWPG&lid=LSTMOBG7RYHM5DBWWPGFTYWF6&marketplace=FLIPKART&q=Oneplus+Nord%2Cpixel+4A&store=tyy%2F4io&srno=s_1_10&otracker=search&otracker1=search&fm=Search&iid=69c9b2c7-a659-4174-a6c8-f43de6e1a8fc.MOBG7RYHM5DBWWPG.SEARCH&ppt=hp&ppn=homepage&ssid=99udjqt60g0000001647544701435&qH=bba4b7710b368fc9',\n",
       " 'https://www.flipkart.com/kall-k-8-new-k-8plus-red-16-gb/p/itmcf68105b24cdb?pid=MOBFHGK4MJFCYDGY&lid=LSTMOBFHGK4MJFCYDGY70OHGZ&marketplace=FLIPKART&q=Oneplus+Nord%2Cpixel+4A&store=tyy%2F4io&srno=s_1_11&otracker=search&otracker1=search&fm=Search&iid=69c9b2c7-a659-4174-a6c8-f43de6e1a8fc.MOBFHGK4MJFCYDGY.SEARCH&ppt=hp&ppn=homepage&ssid=99udjqt60g0000001647544701435&qH=bba4b7710b368fc9',\n",
       " 'https://www.flipkart.com/nokia-5-1-plus-blue-64-gb/p/itmf9gavr3k5nxst?pid=MOBFNXECGBTZUAKJ&lid=LSTMOBFNXECGBTZUAKJ3V5JKK&marketplace=FLIPKART&q=Oneplus+Nord%2Cpixel+4A&store=tyy%2F4io&srno=s_1_12&otracker=search&otracker1=search&fm=Search&iid=69c9b2c7-a659-4174-a6c8-f43de6e1a8fc.MOBFNXECGBTZUAKJ.SEARCH&ppt=hp&ppn=homepage&ssid=99udjqt60g0000001647544701435&qH=bba4b7710b368fc9',\n",
       " 'https://www.flipkart.com/ringme-r1-plus/p/itm2a27283b830d4?pid=MOBG7RYHTWNXSBDQ&lid=LSTMOBG7RYHTWNXSBDQLMO5GY&marketplace=FLIPKART&q=Oneplus+Nord%2Cpixel+4A&store=tyy%2F4io&srno=s_1_13&otracker=search&otracker1=search&fm=Search&iid=69c9b2c7-a659-4174-a6c8-f43de6e1a8fc.MOBG7RYHTWNXSBDQ.SEARCH&ppt=hp&ppn=homepage&ssid=99udjqt60g0000001647544701435&qH=bba4b7710b368fc9',\n",
       " 'https://www.flipkart.com/zopo-flash-x-plus-rose-gold-32-gb/p/itmetft7shutd7rj?pid=MOBEUHEZERPQKXBE&lid=LSTMOBEUHEZERPQKXBEY2JWCJ&marketplace=FLIPKART&q=Oneplus+Nord%2Cpixel+4A&store=tyy%2F4io&srno=s_1_14&otracker=search&otracker1=search&fm=Search&iid=69c9b2c7-a659-4174-a6c8-f43de6e1a8fc.MOBEUHEZERPQKXBE.SEARCH&ppt=hp&ppn=homepage&ssid=99udjqt60g0000001647544701435&qH=bba4b7710b368fc9']"
      ]
     },
     "execution_count": 6,
     "metadata": {},
     "output_type": "execute_result"
    }
   ],
   "source": [
    "#product_url\n",
    "product_url = []\n",
    "product = driver.find_elements_by_xpath('//a[@class=\"_1fQZEK\"]')\n",
    "for i in product:\n",
    "    product_url.append(i.get_attribute('href'))\n",
    "product_url"
   ]
  },
  {
   "cell_type": "code",
   "execution_count": 7,
   "id": "81565a0c",
   "metadata": {},
   "outputs": [
    {
     "data": {
      "text/plain": [
       "['LAVA',\n",
       " 'SAMSUNG',\n",
       " 'ringme',\n",
       " 'ringme',\n",
       " 'KARBONN',\n",
       " 'SAMSUNG',\n",
       " 'I',\n",
       " 'Phicomm',\n",
       " 'Micromax',\n",
       " 'ringme',\n",
       " 'I',\n",
       " 'Nokia',\n",
       " 'ringme',\n",
       " 'Zopo']"
      ]
     },
     "execution_count": 7,
     "metadata": {},
     "output_type": "execute_result"
    }
   ],
   "source": [
    "#Brand Name\n",
    "brand = []\n",
    "for i in product_url:\n",
    "    driver.get(i)\n",
    "    time.sleep(2)\n",
    "    try:\n",
    "        brand_url = driver.find_elements_by_xpath('//span[@class=\"B_NuCI\"]')\n",
    "        for i in brand_url:\n",
    "            brand.append(i.text.split()[0])\n",
    "    except NoSuchElementException:\n",
    "        brand.append('--')\n",
    "brand        "
   ]
  },
  {
   "cell_type": "code",
   "execution_count": 8,
   "id": "bfd301c1",
   "metadata": {},
   "outputs": [
    {
     "data": {
      "text/plain": [
       "['LAVA Pixel V2 Pl',\n",
       " 'SAMSUNG Galaxy S',\n",
       " 'ringme Reno Plus',\n",
       " 'ringme Reno Plus',\n",
       " 'KARBONN Titanium',\n",
       " 'SAMSUNG Galaxy N',\n",
       " 'I Kall K38 Plus ',\n",
       " 'Phicomm Clue 3 P',\n",
       " 'Micromax Bharat ',\n",
       " 'ringme R1 Plus  ',\n",
       " 'I Kall K 8 NEw /',\n",
       " 'Nokia 5.1 Plus (',\n",
       " 'ringme R1 Plus  ',\n",
       " 'Zopo Flash X Plu']"
      ]
     },
     "execution_count": 8,
     "metadata": {},
     "output_type": "execute_result"
    }
   ],
   "source": [
    "#Smart phone Name\n",
    "ph_name = []\n",
    "for i in product_url:\n",
    "    driver.get(i)\n",
    "    time.sleep(1)\n",
    "    try:\n",
    "        phone_name = driver.find_elements_by_xpath('//span[@class=\"B_NuCI\"]')\n",
    "        for i in phone_name:\n",
    "            ph_name.append(i.text)\n",
    "    except NoSuchElementException:\n",
    "        ph_name.append('--')\n",
    "\n",
    "phone_name= [] \n",
    "for i in ph_name:\n",
    "    phone_name.append(i[0:16])\n",
    "phone_name"
   ]
  },
  {
   "cell_type": "code",
   "execution_count": 9,
   "id": "8524cf1e",
   "metadata": {},
   "outputs": [
    {
     "data": {
      "text/plain": [
       "['Black',\n",
       " '-',\n",
       " '-',\n",
       " '-',\n",
       " '-',\n",
       " '-',\n",
       " 'Blue / Light Blue',\n",
       " 'Gold',\n",
       " '-',\n",
       " 'Golden',\n",
       " 'Red',\n",
       " 'Blue',\n",
       " 'Blue',\n",
       " 'Rose Gold']"
      ]
     },
     "execution_count": 9,
     "metadata": {},
     "output_type": "execute_result"
    }
   ],
   "source": [
    "#color \n",
    "flip_dict = {}\n",
    "\n",
    "flip_dict[\"Colour\"] = []\n",
    "\n",
    "for i in product_url:\n",
    "\n",
    "    driver.get(i)\n",
    "\n",
    "    try:\n",
    "\n",
    "        colour = driver.find_element_by_xpath('//*[@id=\"container\"]/div/div[3]/div[1]/div[2]/div[7]/div/div/div[3]/div/div[2]/div/div[1]/table/tbody/tr[4]/td[2]/ul/li')\n",
    "\n",
    "        flip_dict['Colour'].append(colour.text)\n",
    "\n",
    "    except NoSuchElementException:\n",
    "\n",
    "        flip_dict['Colour'].append('-')\n",
    "        \n",
    "flip_dict['Colour']"
   ]
  },
  {
   "cell_type": "code",
   "execution_count": 10,
   "id": "78736802",
   "metadata": {},
   "outputs": [
    {
     "name": "stdout",
     "output_type": "stream",
     "text": [
      "['2 GB RAM ', '3 GB RAM ', '12 GB RAM', '32 MB RAM', '2 GB RAM ', '2 GB RAM ', '1 MB RAM ', '2 GB RAM ', '6 GB RAM ', '1 MB RAM ', '3 GB RAM ']\n",
      "['16 GB ROM', '32 GB ROM', ' 256 GB RO', ' 64 MB ROM', '16 GB ROM', '16 GB ROM', '8 MB ROM', '16 GB ROM', '64 GB ROM', '8 MB ROM', '32 GB ROM ']\n"
     ]
    }
   ],
   "source": [
    "#RAM\n",
    "RAM = []\n",
    "for i in product_url:\n",
    "    driver.get(i)\n",
    "    time.sleep(2)\n",
    "    try:\n",
    "        ram_url = driver.find_elements_by_xpath('//*[@id=\"container\"]/div/div[3]/div[1]/div[2]/div[6]/div[1]/div/div[2]/ul/li[1]')\n",
    "        for i in ram_url:\n",
    "            RAM.append(i.text)\n",
    "    except NoSuchElementException:\n",
    "        RAM.append('--')\n",
    "RAM\n",
    "ram = []\n",
    "rom = []\n",
    "for i in RAM:\n",
    "    ram.append(i[0:9])\n",
    "    rom.append(i[11:21])\n",
    "    \n",
    "print(ram)\n",
    "print(rom)"
   ]
  },
  {
   "cell_type": "code",
   "execution_count": 13,
   "id": "64c54ef6",
   "metadata": {},
   "outputs": [
    {
     "data": {
      "text/plain": [
       "['', '', '', '', '', '']"
      ]
     },
     "execution_count": 13,
     "metadata": {},
     "output_type": "execute_result"
    }
   ],
   "source": [
    "#Primary Camera\n",
    "primary_cam= []\n",
    "for i in product_url:\n",
    "    driver.get(i)\n",
    "    time.sleep(2)\n",
    "    try:\n",
    "        pricam_url = driver.find_elements_by_xpath('//*[@id=\"container\"]/div/div[3]/div[1]/div[2]/div[7]/div/div/div[3]/div/div[2]/div[1]/div[5]/table/tbody/tr[2]/td[2]/ul/li')\n",
    "        for i in pricam_url:\n",
    "            primary_cam.append(i.text)\n",
    "    except NoSuchElementException:\n",
    "        primary_cam.append('--')\n",
    "primary_cam\n",
    "\n"
   ]
  },
  {
   "cell_type": "code",
   "execution_count": 12,
   "id": "48f5853b",
   "metadata": {},
   "outputs": [],
   "source": [
    "#Display Size\n",
    "#//*[@id=\"container\"]/div/div[3]/div[1]/div[2]/div[6]/div[1]/div/div[2]/ul/li[2]"
   ]
  },
  {
   "cell_type": "code",
   "execution_count": null,
   "id": "b98e83cf",
   "metadata": {},
   "outputs": [],
   "source": []
  }
 ],
 "metadata": {
  "kernelspec": {
   "display_name": "Python 3",
   "language": "python",
   "name": "python3"
  },
  "language_info": {
   "codemirror_mode": {
    "name": "ipython",
    "version": 3
   },
   "file_extension": ".py",
   "mimetype": "text/x-python",
   "name": "python",
   "nbconvert_exporter": "python",
   "pygments_lexer": "ipython3",
   "version": "3.8.8"
  }
 },
 "nbformat": 4,
 "nbformat_minor": 5
}
