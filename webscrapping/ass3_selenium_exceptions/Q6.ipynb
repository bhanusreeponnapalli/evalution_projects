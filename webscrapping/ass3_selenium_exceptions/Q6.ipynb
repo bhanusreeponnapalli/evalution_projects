{
 "cells": [
  {
   "cell_type": "markdown",
   "id": "9e981bf0",
   "metadata": {},
   "source": [
    "# Write a program to scrap details of all the funding deals for second quarter (i.e Jan 21 – March 21) from trak.in."
   ]
  },
  {
   "cell_type": "code",
   "execution_count": 1,
   "id": "f40b2e48",
   "metadata": {},
   "outputs": [],
   "source": [
    "import selenium\n",
    "from selenium import webdriver\n",
    "from time import sleep\n",
    "import time\n",
    "import pandas as pd\n",
    "\n",
    "from selenium.webdriver.support import expected_conditions as EC\n",
    "from selenium.common.exceptions import NoSuchElementException\n",
    "\n",
    "import requests # importing Request\n",
    "import re  #importing Regex\n",
    "import time\n",
    "\n",
    "import warnings\n",
    "warnings.filterwarnings('ignore')"
   ]
  },
  {
   "cell_type": "code",
   "execution_count": 2,
   "id": "bb2e3025",
   "metadata": {},
   "outputs": [],
   "source": [
    "driver = webdriver.Chrome(r'C:\\Users\\harsh\\Desktop\\chromedriver.exe')\n",
    "driver.maximize_window()"
   ]
  },
  {
   "cell_type": "code",
   "execution_count": 3,
   "id": "318a05ae",
   "metadata": {},
   "outputs": [],
   "source": [
    "driver.get('https://trak.in/')"
   ]
  },
  {
   "cell_type": "code",
   "execution_count": 5,
   "id": "bb891ec5",
   "metadata": {},
   "outputs": [],
   "source": [
    "funding_deal= driver.find_element_by_xpath('//*[@id=\"menu-item-51510\"]/a')\n",
    "funding_deal.click()"
   ]
  },
  {
   "cell_type": "markdown",
   "id": "e1a00fee",
   "metadata": {},
   "source": [
    "# january funding data"
   ]
  },
  {
   "cell_type": "code",
   "execution_count": null,
   "id": "2b2e323a",
   "metadata": {},
   "outputs": [],
   "source": [
    "\n",
    "    "
   ]
  },
  {
   "cell_type": "code",
   "execution_count": null,
   "id": "1d5f5c4d",
   "metadata": {},
   "outputs": [],
   "source": []
  }
 ],
 "metadata": {
  "kernelspec": {
   "display_name": "Python 3",
   "language": "python",
   "name": "python3"
  },
  "language_info": {
   "codemirror_mode": {
    "name": "ipython",
    "version": 3
   },
   "file_extension": ".py",
   "mimetype": "text/x-python",
   "name": "python",
   "nbconvert_exporter": "python",
   "pygments_lexer": "ipython3",
   "version": "3.8.8"
  }
 },
 "nbformat": 4,
 "nbformat_minor": 5
}
