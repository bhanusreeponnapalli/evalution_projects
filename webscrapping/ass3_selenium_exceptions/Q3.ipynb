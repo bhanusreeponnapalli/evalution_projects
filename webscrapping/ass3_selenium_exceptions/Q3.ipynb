{
 "cells": [
  {
   "cell_type": "markdown",
   "id": "6f2133e0",
   "metadata": {},
   "source": [
    "### 3. Write a python program to access the search bar and search button on images.google.com and scrape 10 images each for keywords ‘fruits’, ‘cars’ and ‘Machine Learning’, ‘Guitar’, ‘Cakes’."
   ]
  },
  {
   "cell_type": "code",
   "execution_count": 20,
   "id": "ec151ed1",
   "metadata": {},
   "outputs": [],
   "source": [
    "from selenium import webdriver\n",
    "from selenium.webdriver.common.keys import Keys\n",
    "import time\n",
    "\n",
    " \n",
    "# Creating a webdriver instance\n",
    "driver = webdriver.Chrome(r'C:\\Users\\harsh\\Desktop\\chromedriver.exe')\n",
    " \n",
    "# Maximize the screen\n",
    "driver.maximize_window()\n",
    " \n",
    "# Open Google Images in the browser\n",
    "driver.get('https://images.google.com/')\n",
    " \n",
    "# Finding the search box\n",
    "search= driver.find_element_by_xpath('//input[@class=\"gLFyf gsfi\"]')\n",
    "search.send_keys('fruits',Keys.ENTER)\n",
    "\n",
    "# Function for scrolling to the bottom of Google\n",
    "# Images results\n",
    "\n",
    " \n",
    "# Loop to capture and save each image\n",
    "for i in range(1, 10):\n",
    "   \n",
    "    # range(1, 10) will capture images 1 to 10 of the search results\n",
    "    # You can change the range as per your need.\n",
    "    try:\n",
    "        # XPath of each image\n",
    "        img = driver.find_element_by_xpath('//img[@class=\"rg_i Q4LuWd\"]')\n",
    " \n",
    "        # Enter the location of folder in which\n",
    "        # the images will be saved\n",
    "        img.screenshot('Download-Location' +query + ' (' + str(i) + ').png')\n",
    "        # Each new screenshot will automatically\n",
    "        # have its name updated\n",
    " \n",
    "        # Just to avoid unwanted errors\n",
    "        time.sleep(0.2)\n",
    " \n",
    "    except:\n",
    "         \n",
    "        # if we can't find the XPath of an image,\n",
    "        # we skip to the next image\n",
    "        continue\n",
    "\n",
    "# Finally, we close the driver\n",
    "driver.close()"
   ]
  },
  {
   "cell_type": "code",
   "execution_count": null,
   "id": "571be9f0",
   "metadata": {},
   "outputs": [],
   "source": []
  }
 ],
 "metadata": {
  "kernelspec": {
   "display_name": "Python 3",
   "language": "python",
   "name": "python3"
  },
  "language_info": {
   "codemirror_mode": {
    "name": "ipython",
    "version": 3
   },
   "file_extension": ".py",
   "mimetype": "text/x-python",
   "name": "python",
   "nbconvert_exporter": "python",
   "pygments_lexer": "ipython3",
   "version": "3.8.8"
  }
 },
 "nbformat": 4,
 "nbformat_minor": 5
}
