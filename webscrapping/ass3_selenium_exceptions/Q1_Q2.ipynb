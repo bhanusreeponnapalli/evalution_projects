{
 "cells": [
  {
   "cell_type": "markdown",
   "id": "2cee2274",
   "metadata": {},
   "source": [
    "### 1. Write a python program which searches all the product under a particular product from www.amazon.in. The product to be searched will be taken as input from user.For e.g. If user input is ‘guitar’. Then search for guitars."
   ]
  },
  {
   "cell_type": "code",
   "execution_count": 16,
   "id": "14e3651a",
   "metadata": {},
   "outputs": [],
   "source": [
    "import selenium\n",
    "from selenium import webdriver\n",
    "from time import sleep\n",
    "import time\n",
    "import pandas as pd\n",
    "\n",
    "import requests # importing Request\n",
    "import re  #importing Regex\n",
    "import time\n",
    "\n",
    "from selenium.webdriver.support import expected_conditions as EC\n",
    "from selenium.common.exceptions import NoSuchElementException,StaleElementReferenceException\n",
    "from selenium.webdriver.chrome.service import Service\n",
    "\n",
    "import warnings\n",
    "warnings.filterwarnings('ignore')"
   ]
  },
  {
   "cell_type": "code",
   "execution_count": 17,
   "id": "2afffa1f",
   "metadata": {},
   "outputs": [],
   "source": [
    "chrome_options = webdriver.ChromeOptions()\n",
    "chrome_options.add_argument('user-data-dir=C:\\\\Perfil')\n",
    "\n",
    "driver_path = r\"C:\\Users\\harsh\\Desktop\\chromedriver.exe\"\n",
    "service = Service(driver_path)\n",
    "driver = webdriver.Chrome(service=service,options=chrome_options)\n",
    "driver.maximize_window()"
   ]
  },
  {
   "cell_type": "code",
   "execution_count": 18,
   "id": "b66b9d65",
   "metadata": {},
   "outputs": [
    {
     "name": "stdout",
     "output_type": "stream",
     "text": [
      "Enter the product name to search: guitar\n"
     ]
    }
   ],
   "source": [
    "driver.get('https://www.amazon.in/')\n",
    "time.sleep(1)\n",
    "user_ip = input('Enter the product name to search: ')"
   ]
  },
  {
   "cell_type": "code",
   "execution_count": 19,
   "id": "c801dd50",
   "metadata": {},
   "outputs": [],
   "source": [
    "search = driver.find_element_by_xpath('//input[@id=\"twotabsearchtextbox\"]')\n",
    "search.send_keys(user_ip)\n",
    "click_search = driver.find_element_by_xpath('//input[@id=\"nav-search-submit-button\"]')\n",
    "click_search.click()"
   ]
  },
  {
   "cell_type": "markdown",
   "id": "99fd02bb",
   "metadata": {},
   "source": [
    "### 2. In the above question, now scrape the following details of each product listed in first 3 pages of your search results and save it in a data frame and csv. In case if any product has less than 3 pages in search results then scrape all the products available under that product name. Details to be scraped are: \"Brand Name\", \"Name of the Product\", \"Price\", \"Return/Exchange\", \"Expected Delivery\", \"Availability\" and “Product URL”. In case, if any of the details are missing for any of the product then replace it by “-“."
   ]
  },
  {
   "cell_type": "code",
   "execution_count": 20,
   "id": "f6a7b01c",
   "metadata": {},
   "outputs": [
    {
     "name": "stdout",
     "output_type": "stream",
     "text": [
      "page: 0\n",
      "page: 1\n",
      "page: 2\n"
     ]
    },
    {
     "data": {
      "text/plain": [
       "178"
      ]
     },
     "execution_count": 20,
     "metadata": {},
     "output_type": "execute_result"
    }
   ],
   "source": [
    "#product_url\n",
    "product_url =[]\n",
    "for i in range(3):\n",
    "    print('page:',i)\n",
    "    try:\n",
    "        url = driver.find_elements_by_xpath('//a[@class=\"a-link-normal s-underline-text s-underline-link-text s-link-style a-text-normal\"]')\n",
    "        for i in url:\n",
    "            product_url.append(i.get_attribute('href'))\n",
    "    except NoSuchElementException:\n",
    "        product_url.append('--')\n",
    "    \n",
    "    next_page = driver.find_element_by_xpath('//a[@class=\"s-pagination-item s-pagination-next s-pagination-button s-pagination-separator\"]')\n",
    "    next_page.click()\n",
    "    time.sleep(2)\n",
    "\n",
    "len(product_url)"
   ]
  },
  {
   "cell_type": "code",
   "execution_count": null,
   "id": "5ff8c452",
   "metadata": {},
   "outputs": [],
   "source": [
    "#scraping details of perticular product    \n",
    "p_name = []\n",
    "brand = []\n",
    "price = []\n",
    "re_exchange = []\n",
    "exp_delivery = []\n",
    "available = []\n",
    "rating = []\n",
    "no_of_ratings = []\n",
    "\n",
    "for i in product_url:\n",
    "    driver.get(i)\n",
    "    time.sleep(2)\n",
    "\n",
    "    #product    \n",
    "    try:\n",
    "        product = driver.find_element_by_id('productTitle')\n",
    "        p_name.append(product.text)\n",
    "    except NoSuchElementException:\n",
    "        p_name.append('-')\n",
    "    time.sleep(1)\n",
    "    \n",
    "    #brand    \n",
    "    try:\n",
    "        brand_u = driver.find_element_by_xpath('//a[@id=\"bylineInfo\"]')      \n",
    "        brand.append(brand_u.text)\n",
    "    except NoSuchElementException:\n",
    "        brand.append('-')\n",
    "    time.sleep(1)    \n",
    "    \n",
    "    #rating\n",
    "    try:\n",
    "        rate = driver.find_element_by_xpath('//span[@class=\"a-size-base a-nowrap\"]//span')\n",
    "        rating.append(rate.text)\n",
    "    except NoSuchElementException:\n",
    "         rating.append('-')\n",
    "\n",
    "    time.sleep(1)\n",
    "    \n",
    "    # Extracting No of Ratings from xpath\n",
    "    try:\n",
    "        no_rating = driver.find_element_by_xpath('//span[@class=\"a-size-base a-color-secondary\"]')  \n",
    "        no_of_ratings.append(no_rating.text)\n",
    "    except NoSuchElementException:\n",
    "        no_of_ratings.append('-')\n",
    "    \n",
    "    time.sleep(1)\n",
    "    \n",
    "    #price\n",
    "    try:\n",
    "        price_url = driver.find_element_by_xpath('//td[@class=\"a-span12\"]')\n",
    "        price.append(price_url.text)\n",
    "    except NoSuchElementException:\n",
    "        price.append('-')\n",
    "        \n",
    "    time.sleep(1)\n",
    "    \n",
    "    #return/Exchange\n",
    "    try:\n",
    "        return_ = driver.find_element_by_xpath('//a[@class=\"a-size-small a-link-normal a-text-normal\"]')  \n",
    "        re_exchange.append(return_.text)\n",
    "    except NoSuchElementException:\n",
    "        re_exchange.append('-')\n",
    "        time.sleep(1)\n",
    "    \n",
    "    # available in stock\n",
    "    try:\n",
    "        available_url = driver.find_element_by_xpath('//span[@class=\"a-size-medium a-color-success\"]')\n",
    "        available.append(available_url.text)\n",
    "    except NoSuchElementException:\n",
    "        available.append('-')\n",
    "        \n",
    "    #Excepted delivery\n",
    "    try:\n",
    "        expected_url = driver.find_element_by_xpath('//a[@id=\"bylineInfo\"]')\n",
    "        exp_delivery.append(expected_url.text)\n",
    "    except NoSuchElementException:\n",
    "        exp_delivery.append('-')\n",
    "        \n",
    "print(len(p_name),len(brand),len(rating),len(price),len(re_exchange),len(available),len(exp_delivery))    "
   ]
  },
  {
   "cell_type": "code",
   "execution_count": 13,
   "id": "d5441f9d",
   "metadata": {},
   "outputs": [
    {
     "name": "stdout",
     "output_type": "stream",
     "text": [
      "107 107 107 107 107 107 107\n"
     ]
    }
   ],
   "source": [
    "print(len(p_name),len(brand),len(rating),len(price),len(re_exchange),len(available),len(exp_delivery))    "
   ]
  },
  {
   "cell_type": "code",
   "execution_count": null,
   "id": "414b87e7",
   "metadata": {},
   "outputs": [],
   "source": [
    "data = pd.DataFrame({'Product_name':p_name,\n",
    "                    'Brand':brand,\n",
    "                    'Price':price,\n",
    "                    'Return':re_exchange,\n",
    "                    'Avaiability':available,\n",
    "                    'Expected_delivery':expected_del})\n",
    "data"
   ]
  },
  {
   "cell_type": "code",
   "execution_count": null,
   "id": "4278f1ce",
   "metadata": {},
   "outputs": [],
   "source": []
  }
 ],
 "metadata": {
  "kernelspec": {
   "display_name": "Python 3",
   "language": "python",
   "name": "python3"
  },
  "language_info": {
   "codemirror_mode": {
    "name": "ipython",
    "version": 3
   },
   "file_extension": ".py",
   "mimetype": "text/x-python",
   "name": "python",
   "nbconvert_exporter": "python",
   "pygments_lexer": "ipython3",
   "version": "3.8.8"
  }
 },
 "nbformat": 4,
 "nbformat_minor": 5
}
